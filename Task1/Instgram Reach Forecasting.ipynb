{
 "cells": [
  {
   "cell_type": "markdown",
   "id": "d3391d7e",
   "metadata": {},
   "source": [
    "# Instgram Reach Forecasting"
   ]
  },
  {
   "cell_type": "markdown",
   "id": "84755d2d",
   "metadata": {},
   "source": [
    "### Import Packages"
   ]
  },
  {
   "cell_type": "code",
   "execution_count": 74,
   "id": "792c55b0",
   "metadata": {},
   "outputs": [],
   "source": [
    "import numpy as np\n",
    "import pandas as pd\n",
    "import matplotlib.pyplot as plt\n",
    "import seaborn as sns\n",
    "from statsmodels import *\n",
    "from plotly import *\n",
    "import plotly.graph_objs as go\n",
    "import plotly.express as px\n",
    "import plotly.io as pio\n",
    "from statsmodels.graphics.tsaplots import plot_pacf\n",
    "import statsmodels.api as sm\n",
    "import warnings\n",
    "warnings.filterwarnings('ignore')\n",
    "%matplotlib inline\n",
    "sns.set()"
   ]
  },
  {
   "cell_type": "markdown",
   "id": "41002cef",
   "metadata": {},
   "source": [
    "### Load and Inspect Data "
   ]
  },
  {
   "cell_type": "code",
   "execution_count": 75,
   "id": "09407c87",
   "metadata": {},
   "outputs": [],
   "source": [
    "df = pd.read_csv('Instagram-Reach.csv')"
   ]
  },
  {
   "cell_type": "code",
   "execution_count": 11,
   "id": "8ade19c2",
   "metadata": {},
   "outputs": [
    {
     "data": {
      "text/html": [
       "<div>\n",
       "<style scoped>\n",
       "    .dataframe tbody tr th:only-of-type {\n",
       "        vertical-align: middle;\n",
       "    }\n",
       "\n",
       "    .dataframe tbody tr th {\n",
       "        vertical-align: top;\n",
       "    }\n",
       "\n",
       "    .dataframe thead th {\n",
       "        text-align: right;\n",
       "    }\n",
       "</style>\n",
       "<table border=\"1\" class=\"dataframe\">\n",
       "  <thead>\n",
       "    <tr style=\"text-align: right;\">\n",
       "      <th></th>\n",
       "      <th>Date</th>\n",
       "      <th>Instagram reach</th>\n",
       "    </tr>\n",
       "  </thead>\n",
       "  <tbody>\n",
       "    <tr>\n",
       "      <th>0</th>\n",
       "      <td>2022-04-01T00:00:00</td>\n",
       "      <td>7620</td>\n",
       "    </tr>\n",
       "    <tr>\n",
       "      <th>1</th>\n",
       "      <td>2022-04-02T00:00:00</td>\n",
       "      <td>12859</td>\n",
       "    </tr>\n",
       "    <tr>\n",
       "      <th>2</th>\n",
       "      <td>2022-04-03T00:00:00</td>\n",
       "      <td>16008</td>\n",
       "    </tr>\n",
       "    <tr>\n",
       "      <th>3</th>\n",
       "      <td>2022-04-04T00:00:00</td>\n",
       "      <td>24349</td>\n",
       "    </tr>\n",
       "    <tr>\n",
       "      <th>4</th>\n",
       "      <td>2022-04-05T00:00:00</td>\n",
       "      <td>20532</td>\n",
       "    </tr>\n",
       "  </tbody>\n",
       "</table>\n",
       "</div>"
      ],
      "text/plain": [
       "                  Date  Instagram reach\n",
       "0  2022-04-01T00:00:00             7620\n",
       "1  2022-04-02T00:00:00            12859\n",
       "2  2022-04-03T00:00:00            16008\n",
       "3  2022-04-04T00:00:00            24349\n",
       "4  2022-04-05T00:00:00            20532"
      ]
     },
     "execution_count": 11,
     "metadata": {},
     "output_type": "execute_result"
    }
   ],
   "source": [
    "df.head()"
   ]
  },
  {
   "cell_type": "code",
   "execution_count": 12,
   "id": "43b4f0a7",
   "metadata": {},
   "outputs": [
    {
     "data": {
      "text/plain": [
       "(365, 2)"
      ]
     },
     "execution_count": 12,
     "metadata": {},
     "output_type": "execute_result"
    }
   ],
   "source": [
    "df.shape"
   ]
  },
  {
   "cell_type": "code",
   "execution_count": 9,
   "id": "61925d8c",
   "metadata": {},
   "outputs": [
    {
     "name": "stdout",
     "output_type": "stream",
     "text": [
      "<class 'pandas.core.frame.DataFrame'>\n",
      "RangeIndex: 365 entries, 0 to 364\n",
      "Data columns (total 2 columns):\n",
      " #   Column           Non-Null Count  Dtype \n",
      "---  ------           --------------  ----- \n",
      " 0   Date             365 non-null    object\n",
      " 1   Instagram reach  365 non-null    int64 \n",
      "dtypes: int64(1), object(1)\n",
      "memory usage: 5.8+ KB\n"
     ]
    }
   ],
   "source": [
    "df.info()"
   ]
  },
  {
   "cell_type": "code",
   "execution_count": 13,
   "id": "8ab39843",
   "metadata": {},
   "outputs": [
    {
     "data": {
      "text/plain": [
       "Date               0\n",
       "Instagram reach    0\n",
       "dtype: int64"
      ]
     },
     "execution_count": 13,
     "metadata": {},
     "output_type": "execute_result"
    }
   ],
   "source": [
    "df.isna().sum()"
   ]
  },
  {
   "cell_type": "code",
   "execution_count": 14,
   "id": "64a138bb",
   "metadata": {},
   "outputs": [
    {
     "data": {
      "text/plain": [
       "0"
      ]
     },
     "execution_count": 14,
     "metadata": {},
     "output_type": "execute_result"
    }
   ],
   "source": [
    "df.duplicated().sum()"
   ]
  },
  {
   "cell_type": "code",
   "execution_count": 76,
   "id": "04825d8c",
   "metadata": {},
   "outputs": [],
   "source": [
    "df['Date'] = pd.to_datetime(df['Date'])"
   ]
  },
  {
   "cell_type": "code",
   "execution_count": 17,
   "id": "92845b6e",
   "metadata": {},
   "outputs": [
    {
     "data": {
      "text/html": [
       "<div>\n",
       "<style scoped>\n",
       "    .dataframe tbody tr th:only-of-type {\n",
       "        vertical-align: middle;\n",
       "    }\n",
       "\n",
       "    .dataframe tbody tr th {\n",
       "        vertical-align: top;\n",
       "    }\n",
       "\n",
       "    .dataframe thead th {\n",
       "        text-align: right;\n",
       "    }\n",
       "</style>\n",
       "<table border=\"1\" class=\"dataframe\">\n",
       "  <thead>\n",
       "    <tr style=\"text-align: right;\">\n",
       "      <th></th>\n",
       "      <th>Date</th>\n",
       "      <th>Instagram reach</th>\n",
       "    </tr>\n",
       "  </thead>\n",
       "  <tbody>\n",
       "    <tr>\n",
       "      <th>264</th>\n",
       "      <td>2022-12-21</td>\n",
       "      <td>20108</td>\n",
       "    </tr>\n",
       "    <tr>\n",
       "      <th>246</th>\n",
       "      <td>2022-12-03</td>\n",
       "      <td>35159</td>\n",
       "    </tr>\n",
       "    <tr>\n",
       "      <th>295</th>\n",
       "      <td>2023-01-21</td>\n",
       "      <td>23006</td>\n",
       "    </tr>\n",
       "    <tr>\n",
       "      <th>119</th>\n",
       "      <td>2022-07-29</td>\n",
       "      <td>57778</td>\n",
       "    </tr>\n",
       "    <tr>\n",
       "      <th>251</th>\n",
       "      <td>2022-12-08</td>\n",
       "      <td>39843</td>\n",
       "    </tr>\n",
       "  </tbody>\n",
       "</table>\n",
       "</div>"
      ],
      "text/plain": [
       "          Date  Instagram reach\n",
       "264 2022-12-21            20108\n",
       "246 2022-12-03            35159\n",
       "295 2023-01-21            23006\n",
       "119 2022-07-29            57778\n",
       "251 2022-12-08            39843"
      ]
     },
     "execution_count": 17,
     "metadata": {},
     "output_type": "execute_result"
    }
   ],
   "source": [
    "df.sample(5)"
   ]
  },
  {
   "cell_type": "markdown",
   "id": "30f4c2ab",
   "metadata": {},
   "source": [
    "### EDA"
   ]
  },
  {
   "cell_type": "code",
   "execution_count": 19,
   "id": "027b15ad",
   "metadata": {},
   "outputs": [
    {
     "data": {
      "text/html": [
       "<div>\n",
       "<style scoped>\n",
       "    .dataframe tbody tr th:only-of-type {\n",
       "        vertical-align: middle;\n",
       "    }\n",
       "\n",
       "    .dataframe tbody tr th {\n",
       "        vertical-align: top;\n",
       "    }\n",
       "\n",
       "    .dataframe thead th {\n",
       "        text-align: right;\n",
       "    }\n",
       "</style>\n",
       "<table border=\"1\" class=\"dataframe\">\n",
       "  <thead>\n",
       "    <tr style=\"text-align: right;\">\n",
       "      <th></th>\n",
       "      <th>Instagram reach</th>\n",
       "    </tr>\n",
       "  </thead>\n",
       "  <tbody>\n",
       "    <tr>\n",
       "      <th>count</th>\n",
       "      <td>365.0</td>\n",
       "    </tr>\n",
       "    <tr>\n",
       "      <th>mean</th>\n",
       "      <td>50474.7</td>\n",
       "    </tr>\n",
       "    <tr>\n",
       "      <th>std</th>\n",
       "      <td>30051.8</td>\n",
       "    </tr>\n",
       "    <tr>\n",
       "      <th>min</th>\n",
       "      <td>7620.0</td>\n",
       "    </tr>\n",
       "    <tr>\n",
       "      <th>25%</th>\n",
       "      <td>25070.0</td>\n",
       "    </tr>\n",
       "    <tr>\n",
       "      <th>50%</th>\n",
       "      <td>43987.0</td>\n",
       "    </tr>\n",
       "    <tr>\n",
       "      <th>75%</th>\n",
       "      <td>68331.0</td>\n",
       "    </tr>\n",
       "    <tr>\n",
       "      <th>max</th>\n",
       "      <td>161998.0</td>\n",
       "    </tr>\n",
       "  </tbody>\n",
       "</table>\n",
       "</div>"
      ],
      "text/plain": [
       "       Instagram reach\n",
       "count            365.0\n",
       "mean           50474.7\n",
       "std            30051.8\n",
       "min             7620.0\n",
       "25%            25070.0\n",
       "50%            43987.0\n",
       "75%            68331.0\n",
       "max           161998.0"
      ]
     },
     "execution_count": 19,
     "metadata": {},
     "output_type": "execute_result"
    }
   ],
   "source": [
    "df.describe().round(1)"
   ]
  },
  {
   "cell_type": "code",
   "execution_count": 22,
   "id": "6d89f59f",
   "metadata": {},
   "outputs": [
    {
     "data": {
      "text/plain": [
       "<AxesSubplot: xlabel='Instagram reach', ylabel='Density'>"
      ]
     },
     "execution_count": 22,
     "metadata": {},
     "output_type": "execute_result"
    },
    {
     "data": {
      "image/png": "[encoded data removed]",
      "text/plain": [
       "<Figure size 720x576 with 1 Axes>"
      ]
     },
     "metadata": {},
     "output_type": "display_data"
    }
   ],
   "source": [
    "plt.figure(figsize=(10,8))\n",
    "sns.distplot(df['Instagram reach'],bins=30)"
   ]
  },
  {
   "cell_type": "code",
   "execution_count": 27,
   "id": "69101bd4",
   "metadata": {},
   "outputs": [
    {
     "data": {
      "text/plain": [
       "<AxesSubplot: xlabel='Date', ylabel='Instagram reach'>"
      ]
     },
     "execution_count": 27,
     "metadata": {},
     "output_type": "execute_result"
    },
    {
     "data": {
      "image/png": "[encoded data removed]",
      "text/plain": [
       "<Figure size 1296x432 with 1 Axes>"
      ]
     },
     "metadata": {},
     "output_type": "display_data"
    }
   ],
   "source": [
    "plt.figure(figsize=(18,6))\n",
    "sns.lineplot(data=df,x='Date',y='Instagram reach')"
   ]
  },
  {
   "cell_type": "code",
   "execution_count": 28,
   "id": "c68ca21d",
   "metadata": {},
   "outputs": [
    {
     "data": {
      "text/plain": [
       "<AxesSubplot: >"
      ]
     },
     "execution_count": 28,
     "metadata": {},
     "output_type": "execute_result"
    },
    {
     "data": {
      "image/png": "[encoded data removed]",
      "text/plain": [
       "<Figure size 720x576 with 1 Axes>"
      ]
     },
     "metadata": {},
     "output_type": "display_data"
    }
   ],
   "source": [
    "sns.boxplot(df['Instagram reach'])"
   ]
  },
  {
   "cell_type": "code",
   "execution_count": 77,
   "id": "3d4b11a7",
   "metadata": {},
   "outputs": [
    {
     "data": {
      "text/html": [
       "<div>\n",
       "<style scoped>\n",
       "    .dataframe tbody tr th:only-of-type {\n",
       "        vertical-align: middle;\n",
       "    }\n",
       "\n",
       "    .dataframe tbody tr th {\n",
       "        vertical-align: top;\n",
       "    }\n",
       "\n",
       "    .dataframe thead th {\n",
       "        text-align: right;\n",
       "    }\n",
       "</style>\n",
       "<table border=\"1\" class=\"dataframe\">\n",
       "  <thead>\n",
       "    <tr style=\"text-align: right;\">\n",
       "      <th></th>\n",
       "      <th>Date</th>\n",
       "      <th>Instagram reach</th>\n",
       "      <th>Day</th>\n",
       "    </tr>\n",
       "  </thead>\n",
       "  <tbody>\n",
       "    <tr>\n",
       "      <th>0</th>\n",
       "      <td>2022-04-01</td>\n",
       "      <td>7620</td>\n",
       "      <td>Friday</td>\n",
       "    </tr>\n",
       "    <tr>\n",
       "      <th>1</th>\n",
       "      <td>2022-04-02</td>\n",
       "      <td>12859</td>\n",
       "      <td>Saturday</td>\n",
       "    </tr>\n",
       "    <tr>\n",
       "      <th>2</th>\n",
       "      <td>2022-04-03</td>\n",
       "      <td>16008</td>\n",
       "      <td>Sunday</td>\n",
       "    </tr>\n",
       "    <tr>\n",
       "      <th>3</th>\n",
       "      <td>2022-04-04</td>\n",
       "      <td>24349</td>\n",
       "      <td>Monday</td>\n",
       "    </tr>\n",
       "    <tr>\n",
       "      <th>4</th>\n",
       "      <td>2022-04-05</td>\n",
       "      <td>20532</td>\n",
       "      <td>Tuesday</td>\n",
       "    </tr>\n",
       "  </tbody>\n",
       "</table>\n",
       "</div>"
      ],
      "text/plain": [
       "        Date  Instagram reach       Day\n",
       "0 2022-04-01             7620    Friday\n",
       "1 2022-04-02            12859  Saturday\n",
       "2 2022-04-03            16008    Sunday\n",
       "3 2022-04-04            24349    Monday\n",
       "4 2022-04-05            20532   Tuesday"
      ]
     },
     "execution_count": 77,
     "metadata": {},
     "output_type": "execute_result"
    }
   ],
   "source": [
    "df['Day'] = df['Date'].dt.day_name()\n",
    "df.head()"
   ]
  },
  {
   "cell_type": "code",
   "execution_count": 33,
   "id": "a0aa69c7",
   "metadata": {},
   "outputs": [
    {
     "data": {
      "text/html": [
       "<div>\n",
       "<style scoped>\n",
       "    .dataframe tbody tr th:only-of-type {\n",
       "        vertical-align: middle;\n",
       "    }\n",
       "\n",
       "    .dataframe tbody tr th {\n",
       "        vertical-align: top;\n",
       "    }\n",
       "\n",
       "    .dataframe thead th {\n",
       "        text-align: right;\n",
       "    }\n",
       "</style>\n",
       "<table border=\"1\" class=\"dataframe\">\n",
       "  <thead>\n",
       "    <tr style=\"text-align: right;\">\n",
       "      <th></th>\n",
       "      <th>Day</th>\n",
       "      <th>mean</th>\n",
       "      <th>median</th>\n",
       "      <th>std</th>\n",
       "    </tr>\n",
       "  </thead>\n",
       "  <tbody>\n",
       "    <tr>\n",
       "      <th>0</th>\n",
       "      <td>Friday</td>\n",
       "      <td>46666.849057</td>\n",
       "      <td>35574.0</td>\n",
       "      <td>29856.943036</td>\n",
       "    </tr>\n",
       "    <tr>\n",
       "      <th>1</th>\n",
       "      <td>Monday</td>\n",
       "      <td>52621.692308</td>\n",
       "      <td>46853.0</td>\n",
       "      <td>32296.071347</td>\n",
       "    </tr>\n",
       "    <tr>\n",
       "      <th>2</th>\n",
       "      <td>Saturday</td>\n",
       "      <td>47374.750000</td>\n",
       "      <td>40012.0</td>\n",
       "      <td>27667.043634</td>\n",
       "    </tr>\n",
       "    <tr>\n",
       "      <th>3</th>\n",
       "      <td>Sunday</td>\n",
       "      <td>53114.173077</td>\n",
       "      <td>47797.0</td>\n",
       "      <td>30906.162384</td>\n",
       "    </tr>\n",
       "    <tr>\n",
       "      <th>4</th>\n",
       "      <td>Thursday</td>\n",
       "      <td>48570.923077</td>\n",
       "      <td>39150.0</td>\n",
       "      <td>28623.220625</td>\n",
       "    </tr>\n",
       "    <tr>\n",
       "      <th>5</th>\n",
       "      <td>Tuesday</td>\n",
       "      <td>54030.557692</td>\n",
       "      <td>48786.0</td>\n",
       "      <td>32503.726482</td>\n",
       "    </tr>\n",
       "    <tr>\n",
       "      <th>6</th>\n",
       "      <td>Wednesday</td>\n",
       "      <td>51017.269231</td>\n",
       "      <td>42320.5</td>\n",
       "      <td>29047.869685</td>\n",
       "    </tr>\n",
       "  </tbody>\n",
       "</table>\n",
       "</div>"
      ],
      "text/plain": [
       "         Day          mean   median           std\n",
       "0     Friday  46666.849057  35574.0  29856.943036\n",
       "1     Monday  52621.692308  46853.0  32296.071347\n",
       "2   Saturday  47374.750000  40012.0  27667.043634\n",
       "3     Sunday  53114.173077  47797.0  30906.162384\n",
       "4   Thursday  48570.923077  39150.0  28623.220625\n",
       "5    Tuesday  54030.557692  48786.0  32503.726482\n",
       "6  Wednesday  51017.269231  42320.5  29047.869685"
      ]
     },
     "execution_count": 33,
     "metadata": {},
     "output_type": "execute_result"
    }
   ],
   "source": [
    "df.groupby('Day')['Instagram reach'].agg(['mean','median','std']).reset_index()"
   ]
  },
  {
   "cell_type": "code",
   "execution_count": 67,
   "id": "9f0c1689",
   "metadata": {},
   "outputs": [
    {
     "data": {
      "text/plain": [
       "<AxesSubplot: title={'center': 'Instagram reach By Day'}, xlabel='Day', ylabel='Instagram reach'>"
      ]
     },
     "execution_count": 67,
     "metadata": {},
     "output_type": "execute_result"
    },
    {
     "data": {
      "image/png": "[encoded data removed]",
      "text/plain": [
       "<Figure size 720x576 with 1 Axes>"
      ]
     },
     "metadata": {},
     "output_type": "display_data"
    }
   ],
   "source": [
    "plt.figure(figsize=(10,8))\n",
    "plt.title('Instagram reach By Day')\n",
    "sns.barplot(data=df,x='Day',y='Instagram reach')"
   ]
  },
  {
   "cell_type": "markdown",
   "id": "95924404",
   "metadata": {},
   "source": [
    "### Reach Forecasting"
   ]
  },
  {
   "cell_type": "code",
   "execution_count": 50,
   "id": "e2d739ac",
   "metadata": {},
   "outputs": [
    {
     "data": {
      "application/vnd.plotly.v1+json": {
       "config": {
        "plotlyServerURL": "https://plot.ly"
       },
       "data": [
        {
         "line": {
          "color": "rgba (76, 114, 176, 1)",
          "dash": "solid",
          "width": 1.5
         },
         "mode": "lines",
         "name": "_child0",
         "type": "scatter",
         "x": [
          0,
          1,
          2,
          3,
          4,
          5,
          6,
          7,
          8,
          9,
          10,
          11,
          12,
          13,
          14,
          15,
          16,
          17,
          18,
          19,
          20,
          21,
          22,
          23,
          24,
          25,
          26,
          27,
          28,
          29,
          30,
          31,
          32,
          33,
          34,
          35,
          36,
          37,
          38,
          39,
          40,
          41,
          42,
          43,
          44,
          45,
          46,
          47,
          48,
          49,
          50,
          51,
          52,
          53,
          54,
          55,
          56,
          57,
          58,
          59,
          60,
          61,
          62,
          63,
          64,
          65,
          66,
          67,
          68,
          69,
          70,
          71,
          72,
          73,
          74,
          75,
          76,
          77,
          78,
          79,
          80,
          81,
          82,
          83,
          84,
          85,
          86,
          87,
          88,
          89,
          90,
          91,
          92,
          93,
          94,
          95,
          96,
          97,
          98,
          99,
          100,
          101,
          102,
          103,
          104,
          105,
          106,
          107,
          108,
          109,
          110,
          111,
          112,
          113,
          114,
          115,
          116,
          117,
          118,
          119,
          120,
          121,
          122,
          123,
          124,
          125,
          126,
          127,
          128,
          129,
          130,
          131,
          132,
          133,
          134,
          135,
          136,
          137,
          138,
          139,
          140,
          141,
          142,
          143,
          144,
          145,
          146,
          147,
          148,
          149,
          150,
          151,
          152,
          153,
          154,
          155,
          156,
          157,
          158,
          159,
          160,
          161,
          162,
          163,
          164,
          165,
          166,
          167,
          168,
          169,
          170,
          171,
          172,
          173,
          174,
          175,
          176,
          177,
          178,
          179,
          180,
          181,
          182,
          183,
          184,
          185,
          186,
          187,
          188,
          189,
          190,
          191,
          192,
          193,
          194,
          195,
          196,
          197,
          198,
          199,
          200,
          201,
          202,
          203,
          204,
          205,
          206,
          207,
          208,
          209,
          210,
          211,
          212,
          213,
          214,
          215,
          216,
          217,
          218,
          219,
          220,
          221,
          222,
          223,
          224,
          225,
          226,
          227,
          228,
          229,
          230,
          231,
          232,
          233,
          234,
          235,
          236,
          237,
          238,
          239,
          240,
          241,
          242,
          243,
          244,
          245,
          246,
          247,
          248,
          249,
          250,
          251,
          252,
          253,
          254,
          255,
          256,
          257,
          258,
          259,
          260,
          261,
          262,
          263,
          264,
          265,
          266,
          267,
          268,
          269,
          270,
          271,
          272,
          273,
          274,
          275,
          276,
          277,
          278,
          279,
          280,
          281,
          282,
          283,
          284,
          285,
          286,
          287,
          288,
          289,
          290,
          291,
          292,
          293,
          294,
          295,
          296,
          297,
          298,
          299,
          300,
          301,
          302,
          303,
          304,
          305,
          306,
          307,
          308,
          309,
          310,
          311,
          312,
          313,
          314,
          315,
          316,
          317,
          318,
          319,
          320,
          321,
          322,
          323,
          324,
          325,
          326,
          327,
          328,
          329,
          330,
          331,
          332,
          333,
          334,
          335,
          336,
          337,
          338,
          339,
          340,
          341,
          342,
          343,
          344,
          345,
          346,
          347,
          348,
          349,
          350,
          351,
          352,
          353,
          354,
          355,
          356,
          357,
          358,
          359,
          360,
          361,
          362,
          363,
          364
         ],
         "xaxis": "x",
         "y": [
          7620,
          12859,
          16008,
          24349,
          20532,
          19408,
          14941,
          17263,
          20224,
          30471,
          39774,
          43550,
          42342,
          55477,
          54391,
          44108,
          49089,
          42790,
          49940,
          45763,
          38457,
          45197,
          42367,
          36076,
          34467,
          36772,
          35349,
          27926,
          26184,
          26410,
          32637,
          42204,
          47632,
          35793,
          35945,
          35574,
          26940,
          27495,
          19660,
          24138,
          23391,
          16748,
          17489,
          18171,
          29682,
          33085,
          50797,
          54392,
          35649,
          33654,
          46443,
          50465,
          51263,
          55647,
          68448,
          73815,
          74077,
          67922,
          80600,
          73835,
          83221,
          77190,
          83630,
          65133,
          72761,
          67778,
          54560,
          32643,
          24889,
          27046,
          55433,
          64168,
          69366,
          59358,
          46011,
          38286,
          89665,
          133807,
          103309,
          112461,
          114870,
          115782,
          110319,
          51336,
          54666,
          62637,
          66525,
          61001,
          73659,
          59505,
          60504,
          69593,
          76763,
          63917,
          60591,
          66350,
          62711,
          70608,
          61222,
          51758,
          62099,
          69686,
          78896,
          68331,
          59660,
          58746,
          59599,
          110544,
          117070,
          122530,
          81669,
          74793,
          82299,
          81336,
          70291,
          77767,
          62322,
          62659,
          69659,
          57778,
          55289,
          63183,
          68727,
          74334,
          72809,
          53647,
          89747,
          91473,
          88629,
          103756,
          134856,
          123226,
          134762,
          118660,
          29813,
          22671,
          18341,
          14616,
          11427,
          16703,
          10989,
          17251,
          20968,
          13249,
          14045,
          13598,
          17944,
          86559,
          114821,
          89385,
          87489,
          106211,
          92920,
          84745,
          86010,
          105478,
          129544,
          120165,
          100047,
          92885,
          120963,
          107493,
          97374,
          116321,
          105488,
          87666,
          87047,
          78212,
          77807,
          82448,
          133156,
          161998,
          142298,
          108106,
          68922,
          54147,
          72691,
          72354,
          58779,
          73231,
          53697,
          100440,
          61940,
          100277,
          80560,
          83699,
          99136,
          118015,
          94388,
          71084,
          63193,
          64780,
          48227,
          52129,
          26257,
          19469,
          22669,
          27502,
          61623,
          75694,
          33518,
          55984,
          63264,
          19509,
          20633,
          24122,
          16745,
          23674,
          38667,
          48504,
          34889,
          40588,
          74032,
          66457,
          61773,
          45842,
          32075,
          32016,
          39436,
          84987,
          50200,
          62769,
          63688,
          63829,
          44754,
          37796,
          43987,
          45479,
          40908,
          49767,
          56708,
          91287,
          54146,
          58121,
          61232,
          63271,
          70836,
          64517,
          64358,
          58697,
          50766,
          54373,
          50188,
          36290,
          36760,
          34121,
          35159,
          37259,
          36993,
          51028,
          42299,
          39843,
          43256,
          49872,
          46505,
          39585,
          30135,
          34592,
          34681,
          33083,
          31342,
          26562,
          22119,
          23183,
          20108,
          18793,
          16431,
          17075,
          16881,
          20798,
          25612,
          25070,
          22686,
          19555,
          23887,
          25451,
          21871,
          28045,
          31426,
          35156,
          30881,
          29980,
          29092,
          33687,
          38209,
          34486,
          36539,
          31826,
          29354,
          30277,
          24114,
          22497,
          36816,
          18850,
          15411,
          23006,
          22257,
          19413,
          20392,
          19793,
          23358,
          29541,
          26580,
          24459,
          26401,
          28053,
          25138,
          19939,
          48309,
          57526,
          61022,
          61822,
          26224,
          24975,
          28476,
          24834,
          27249,
          28076,
          26542,
          24477,
          25137,
          23645,
          20195,
          24079,
          25884,
          18755,
          22528,
          18026,
          20873,
          16639,
          14482,
          17726,
          32823,
          87649,
          91367,
          50625,
          12823,
          15866,
          19175,
          17065,
          56023,
          70632,
          20629,
          17595,
          31142,
          35195,
          43031,
          38135,
          22214,
          23075,
          17173,
          18978,
          45343,
          59259,
          23662,
          18075,
          16319,
          15612,
          21229,
          16080,
          15622,
          18645,
          41238,
          50490,
          22014
         ],
         "yaxis": "y"
        },
        {
         "line": {
          "color": "rgba (76, 114, 176, 1)",
          "dash": "solid",
          "width": 1.5
         },
         "mode": "lines",
         "name": "_child0",
         "type": "scatter",
         "x": [
          0,
          1,
          2,
          3,
          4,
          5,
          6,
          7,
          8,
          9,
          10,
          11,
          12,
          13,
          14,
          15,
          16,
          17,
          18,
          19,
          20,
          21,
          22,
          23,
          24,
          25,
          26,
          27,
          28,
          29,
          30,
          31,
          32,
          33,
          34,
          35,
          36,
          37,
          38,
          39,
          40,
          41,
          42,
          43,
          44,
          45,
          46,
          47,
          48,
          49,
          50,
          51,
          52,
          53,
          54,
          55,
          56,
          57,
          58,
          59,
          60,
          61,
          62,
          63,
          64,
          65,
          66,
          67,
          68,
          69,
          70,
          71,
          72,
          73,
          74,
          75,
          76,
          77,
          78,
          79,
          80,
          81,
          82,
          83,
          84,
          85,
          86,
          87,
          88,
          89,
          90,
          91,
          92,
          93,
          94,
          95,
          96,
          97,
          98,
          99,
          100,
          101,
          102,
          103,
          104,
          105,
          106,
          107,
          108,
          109,
          110,
          111,
          112,
          113,
          114,
          115,
          116,
          117,
          118,
          119,
          120,
          121,
          122,
          123,
          124,
          125,
          126,
          127,
          128,
          129,
          130,
          131,
          132,
          133,
          134,
          135,
          136,
          137,
          138,
          139,
          140,
          141,
          142,
          143,
          144,
          145,
          146,
          147,
          148,
          149,
          150,
          151,
          152,
          153,
          154,
          155,
          156,
          157,
          158,
          159,
          160,
          161,
          162,
          163,
          164,
          165,
          166,
          167,
          168,
          169,
          170,
          171,
          172,
          173,
          174,
          175,
          176,
          177,
          178,
          179,
          180,
          181,
          182,
          183,
          184,
          185,
          186,
          187,
          188,
          189,
          190,
          191,
          192,
          193,
          194,
          195,
          196,
          197,
          198,
          199,
          200,
          201,
          202,
          203,
          204,
          205,
          206,
          207,
          208,
          209,
          210,
          211,
          212,
          213,
          214,
          215,
          216,
          217,
          218,
          219,
          220,
          221,
          222,
          223,
          224,
          225,
          226,
          227,
          228,
          229,
          230,
          231,
          232,
          233,
          234,
          235,
          236,
          237,
          238,
          239,
          240,
          241,
          242,
          243,
          244,
          245,
          246,
          247,
          248,
          249,
          250,
          251,
          252,
          253,
          254,
          255,
          256,
          257,
          258,
          259,
          260,
          261,
          262,
          263,
          264,
          265,
          266,
          267,
          268,
          269,
          270,
          271,
          272,
          273,
          274,
          275,
          276,
          277,
          278,
          279,
          280,
          281,
          282,
          283,
          284,
          285,
          286,
          287,
          288,
          289,
          290,
          291,
          292,
          293,
          294,
          295,
          296,
          297,
          298,
          299,
          300,
          301,
          302,
          303,
          304,
          305,
          306,
          307,
          308,
          309,
          310,
          311,
          312,
          313,
          314,
          315,
          316,
          317,
          318,
          319,
          320,
          321,
          322,
          323,
          324,
          325,
          326,
          327,
          328,
          329,
          330,
          331,
          332,
          333,
          334,
          335,
          336,
          337,
          338,
          339,
          340,
          341,
          342,
          343,
          344,
          345,
          346,
          347,
          348,
          349,
          350,
          351,
          352,
          353,
          354,
          355,
          356,
          357,
          358,
          359,
          360,
          361,
          362,
          363,
          364
         ],
         "xaxis": "x2",
         "y": [
          null,
          null,
          null,
          null,
          null,
          null,
          null,
          null,
          null,
          null,
          null,
          null,
          null,
          null,
          null,
          null,
          null,
          null,
          null,
          null,
          null,
          null,
          null,
          null,
          null,
          null,
          null,
          null,
          null,
          null,
          null,
          null,
          null,
          null,
          null,
          null,
          null,
          null,
          null,
          null,
          null,
          null,
          null,
          null,
          null,
          null,
          null,
          null,
          null,
          null,
          50859.665000000015,
          51416.195,
          52014.770000000004,
          52549.12,
          52964.67,
          53357.00000000001,
          53776.979999999996,
          54466.674999999996,
          55417.31,
          56361.835,
          57031.605,
          57397.295,
          57753.295000000006,
          58082.37500000001,
          58291.170000000006,
          58538.965000000004,
          58773.42500000001,
          58938.935,
          59136.875,
          59295.545,
          59439.78,
          59613.869999999995,
          59835.6,
          60158.689999999995,
          60541.689999999995,
          60817.774999999994,
          61174.13999999999,
          61763.865,
          62393.825,
          63092.780000000006,
          63990.605,
          64906.81,
          65747.56999999999,
          66597.55500000001,
          66981.23000000001,
          66886.05500000001,
          66778.54500000001,
          66671.15500000003,
          66565.59500000002,
          66487.25500000002,
          66388.07000000002,
          66328.57500000001,
          66348.485,
          66341.26999999997,
          66238.475,
          66062.85500000001,
          65801.155,
          65797.725,
          66354.42,
          67028.93500000001,
          67512.82000000002,
          67996.78,
          68483.79500000001,
          68837.57,
          69070.87,
          69316.995,
          69752.645,
          70291.195,
          70649.645,
          70842.12999999999,
          71126.09000000001,
          71466.315,
          71686.55,
          72011.20999999999,
          72430.785,
          72693.86,
          72955.73500000002,
          73346.01500000001,
          73838.45000000001,
          74380.05000000002,
          75045.675,
          75923.44,
          76777.25,
          77385.64999999998,
          77743.94499999999,
          77937.805,
          77932.23999999999,
          77540.10500000001,
          77010.19,
          76591.38999999998,
          76089.375,
          75706.79999999999,
          75388.19499999998,
          75391.00499999999,
          75765.18000000001,
          75999.96,
          76268.32500000001,
          76716.45000000001,
          77105.16500000001,
          77266.705,
          77338.045,
          77327.42499999999,
          77160.68,
          76959.06,
          76728.45,
          76322.37500000001,
          75887.76000000001,
          75472.02,
          75258.49500000002,
          75380.18000000001,
          75356.95499999999,
          75145.54,
          74998.87,
          74676.59999999999,
          74237.35499999998,
          73869.09999999999,
          73481.70999999999,
          72833.09,
          72006.725,
          71244.58,
          70640.55,
          70235.625,
          70023.265,
          69907.535,
          69790.55000000002,
          69588.33500000002,
          69277.475,
          68973.02500000001,
          68668.69499999998,
          68653.625,
          68764.22499999999,
          68736.71,
          68709.44499999999,
          68631.725,
          68438.925,
          68219.39499999999,
          67911.34,
          67452.56999999999,
          66983.99499999998,
          66475.445,
          65814.76000000001,
          65264.325000000004,
          64701.55000000001,
          63995.775,
          63850.17500000001,
          64210.27000000001,
          64675.745,
          65187.725000000006,
          65701.885,
          66176.51,
          66585.365,
          66969.86000000002,
          67301.56999999999,
          67562.875,
          67791.655,
          68007.845,
          68196.535,
          68036.11,
          67400.47000000002,
          66819.54499999998,
          66401.80999999998,
          65844.01999999999,
          65263.85999999999,
          64841.174999999996,
          64469.284999999996,
          63942.295000000006,
          63115.78500000001,
          62190.875,
          61436.17999999999,
          60810.33999999999,
          60063.225,
          59210.465,
          58429.535,
          57587.57000000001,
          56694.98000000001,
          55923.715000000004,
          55226.270000000004,
          54567.505000000005,
          53957.19,
          53344.31,
          52498.34,
          51275.98,
          49993.280000000006,
          48952.465000000004,
          48284.535,
          47915.880000000005,
          47518.30000000001,
          47042.655000000006,
          46684.345,
          46357.205,
          46052.74999999999,
          45586.369999999995,
          45069.83,
          44572.63999999999,
          44027.935000000005,
          43570.115,
          43011.064999999995,
          42267.135,
          41511.02,
          40981.81500000001,
          40582.384999999995,
          40175.575000000004,
          39907.104999999996,
          39683.655,
          39463.030000000006,
          39426.485,
          39442.11,
          39399.605,
          39153.005,
          38667.34499999999,
          38337.03999999999,
          38154.025,
          37838.39,
          37679.72000000001,
          37733.310000000005,
          37781.805,
          37843.424999999996,
          37866.715,
          37896.25,
          37989.569999999985,
          38165.344999999994,
          38402.18,
          38269.310000000005,
          37822.86,
          37448.965,
          37177.44,
          37048.27,
          37004.439999999995,
          36920.26999999999,
          36553.24999999999,
          36125.384999999995,
          35804.450000000004,
          35391.365,
          34975.14999999999,
          34682.049999999996,
          34492.49499999999,
          34289.994999999995,
          34045.435,
          33807.994999999995,
          33542.18000000001,
          33165.41,
          32586.475000000002,
          32112.055,
          32153.079999999998,
          32451.395,
          32538.840000000004,
          32185.545000000002,
          31652.225000000002,
          31183.055,
          30748.980000000003,
          30567.105000000003,
          30674.685,
          30608.185000000005,
          30366.915,
          30245.350000000002,
          30222.63,
          30267.36,
          30311.1,
          30241.585,
          30027.925000000003,
          29762.53,
          29532.574999999997,
          29438.685,
          29496.054999999997,
          29428.775,
          29207.01,
          29030.380000000005,
          28866.4,
          28704.239999999998,
          28551.965,
          28388.350000000002,
          28270.165,
          28326.175,
          28558.305000000004,
          28704.370000000003,
          null,
          null,
          null,
          null,
          null,
          null,
          null,
          null,
          null,
          null,
          null,
          null,
          null,
          null,
          null,
          null,
          null,
          null,
          null,
          null,
          null,
          null,
          null,
          null,
          null,
          null,
          null,
          null,
          null,
          null,
          null,
          null,
          null,
          null,
          null,
          null,
          null,
          null,
          null,
          null,
          null,
          null,
          null,
          null,
          null,
          null,
          null,
          null,
          null,
          null
         ],
         "yaxis": "y2"
        },
        {
         "line": {
          "color": "rgba (76, 114, 176, 1)",
          "dash": "solid",
          "width": 1.5
         },
         "mode": "lines",
         "name": "_child0",
         "type": "scatter",
         "x": [
          0,
          1,
          2,
          3,
          4,
          5,
          6,
          7,
          8,
          9,
          10,
          11,
          12,
          13,
          14,
          15,
          16,
          17,
          18,
          19,
          20,
          21,
          22,
          23,
          24,
          25,
          26,
          27,
          28,
          29,
          30,
          31,
          32,
          33,
          34,
          35,
          36,
          37,
          38,
          39,
          40,
          41,
          42,
          43,
          44,
          45,
          46,
          47,
          48,
          49,
          50,
          51,
          52,
          53,
          54,
          55,
          56,
          57,
          58,
          59,
          60,
          61,
          62,
          63,
          64,
          65,
          66,
          67,
          68,
          69,
          70,
          71,
          72,
          73,
          74,
          75,
          76,
          77,
          78,
          79,
          80,
          81,
          82,
          83,
          84,
          85,
          86,
          87,
          88,
          89,
          90,
          91,
          92,
          93,
          94,
          95,
          96,
          97,
          98,
          99,
          100,
          101,
          102,
          103,
          104,
          105,
          106,
          107,
          108,
          109,
          110,
          111,
          112,
          113,
          114,
          115,
          116,
          117,
          118,
          119,
          120,
          121,
          122,
          123,
          124,
          125,
          126,
          127,
          128,
          129,
          130,
          131,
          132,
          133,
          134,
          135,
          136,
          137,
          138,
          139,
          140,
          141,
          142,
          143,
          144,
          145,
          146,
          147,
          148,
          149,
          150,
          151,
          152,
          153,
          154,
          155,
          156,
          157,
          158,
          159,
          160,
          161,
          162,
          163,
          164,
          165,
          166,
          167,
          168,
          169,
          170,
          171,
          172,
          173,
          174,
          175,
          176,
          177,
          178,
          179,
          180,
          181,
          182,
          183,
          184,
          185,
          186,
          187,
          188,
          189,
          190,
          191,
          192,
          193,
          194,
          195,
          196,
          197,
          198,
          199,
          200,
          201,
          202,
          203,
          204,
          205,
          206,
          207,
          208,
          209,
          210,
          211,
          212,
          213,
          214,
          215,
          216,
          217,
          218,
          219,
          220,
          221,
          222,
          223,
          224,
          225,
          226,
          227,
          228,
          229,
          230,
          231,
          232,
          233,
          234,
          235,
          236,
          237,
          238,
          239,
          240,
          241,
          242,
          243,
          244,
          245,
          246,
          247,
          248,
          249,
          250,
          251,
          252,
          253,
          254,
          255,
          256,
          257,
          258,
          259,
          260,
          261,
          262,
          263,
          264,
          265,
          266,
          267,
          268,
          269,
          270,
          271,
          272,
          273,
          274,
          275,
          276,
          277,
          278,
          279,
          280,
          281,
          282,
          283,
          284,
          285,
          286,
          287,
          288,
          289,
          290,
          291,
          292,
          293,
          294,
          295,
          296,
          297,
          298,
          299,
          300,
          301,
          302,
          303,
          304,
          305,
          306,
          307,
          308,
          309,
          310,
          311,
          312,
          313,
          314,
          315,
          316,
          317,
          318,
          319,
          320,
          321,
          322,
          323,
          324,
          325,
          326,
          327,
          328,
          329,
          330,
          331,
          332,
          333,
          334,
          335,
          336,
          337,
          338,
          339,
          340,
          341,
          342,
          343,
          344,
          345,
          346,
          347,
          348,
          349,
          350,
          351,
          352,
          353,
          354,
          355,
          356,
          357,
          358,
          359,
          360,
          361,
          362,
          363,
          364
         ],
         "xaxis": "x3",
         "y": [
          0.7232036050030856,
          0.9411997448812576,
          0.9899425706295483,
          0.6948391182285862,
          0.6811453415132149,
          0.7152935225430973,
          0.6499672706551416,
          0.86548121470048,
          1.2993147630108932,
          1.4867455087988364,
          1.2695986224155216,
          1.2827641557056118,
          1.0935646479309022,
          1.0337210838270254,
          0.9990355163633291,
          0.9277423738428269,
          0.7045969826897288,
          0.707532909094564,
          0.8220611873272127,
          1.1636468104088347,
          0.8312357446022549,
          1.0096515240442958,
          1.0650089418742046,
          1.1118421220642682,
          0.9149235449900223,
          0.7252647130436481,
          1.0199400678738568,
          1.0538967346373145,
          0.9953182281796522,
          1.192247993456625,
          1.4748079290035812,
          1.7824037010829439,
          1.4675643232278455,
          1.4130317194131414,
          0.8760571830990178,
          0.8594725124746535,
          0.9267080507485838,
          0.8430056974279103,
          0.833997583149631,
          0.8093785839690413,
          0.683970666354121,
          0.7740426318231531,
          0.7509120531897043,
          0.5335351545772827,
          0.5472408752298011,
          0.5124027047857702,
          0.5537756684931682,
          1.0274438511269814,
          1.2130150973685632,
          1.2301684003289854,
          1.0400928091170192,
          1.1257459475011116,
          1.1023435495265097,
          1.1513380341945738,
          1.2056828474421792,
          1.2631844814643869,
          1.2886137134841322,
          1.2472689475485192,
          1.2304316136147457,
          1.1406195151012763,
          1.3069649311108062,
          1.1675813284388914,
          1.118368674808336,
          1.112352074461218,
          1.0791014974448405,
          0.956820666173485,
          0.860326601872097,
          0.7035074319041255,
          0.6583199934125588,
          0.7286467886058389,
          1.1711822741011382,
          1.3529804588010221,
          1.2671919459235672,
          1.0215864421747727,
          0.8038550549791202,
          0.7073971142004192,
          1.0389273545242328,
          1.3298936011621891,
          1.1334830887937213,
          1.2871319997137225,
          1.1594405416273912,
          1.3887998621253586,
          1.1591393940951065,
          1.1081703173283202,
          1.0655478542995267,
          1.0801348100463433,
          1.1994309567093733,
          1.22121489230483,
          1.1405891341623695,
          0.9668663611498333,
          0.8671996116146696,
          0.9001338534842886,
          1.0069877054180192,
          0.7711128651013296,
          0.5929895318245851,
          0.6716299906161884,
          0.6614668610598369,
          0.6932180868324371,
          0.8220044020825638,
          0.8393212353073813,
          0.7232036050030856,
          0.9411997448812576,
          0.9899425706295483,
          0.6948391182285862,
          0.6811453415132149,
          0.7152935225430973,
          0.6499672706551416,
          0.86548121470048,
          1.2993147630108932,
          1.4867455087988364,
          1.2695986224155216,
          1.2827641557056118,
          1.0935646479309022,
          1.0337210838270254,
          0.9990355163633291,
          0.9277423738428269,
          0.7045969826897288,
          0.707532909094564,
          0.8220611873272127,
          1.1636468104088347,
          0.8312357446022549,
          1.0096515240442958,
          1.0650089418742046,
          1.1118421220642682,
          0.9149235449900223,
          0.7252647130436481,
          1.0199400678738568,
          1.0538967346373145,
          0.9953182281796522,
          1.192247993456625,
          1.4748079290035812,
          1.7824037010829439,
          1.4675643232278455,
          1.4130317194131414,
          0.8760571830990178,
          0.8594725124746535,
          0.9267080507485838,
          0.8430056974279103,
          0.833997583149631,
          0.8093785839690413,
          0.683970666354121,
          0.7740426318231531,
          0.7509120531897043,
          0.5335351545772827,
          0.5472408752298011,
          0.5124027047857702,
          0.5537756684931682,
          1.0274438511269814,
          1.2130150973685632,
          1.2301684003289854,
          1.0400928091170192,
          1.1257459475011116,
          1.1023435495265097,
          1.1513380341945738,
          1.2056828474421792,
          1.2631844814643869,
          1.2886137134841322,
          1.2472689475485192,
          1.2304316136147457,
          1.1406195151012763,
          1.3069649311108062,
          1.1675813284388914,
          1.118368674808336,
          1.112352074461218,
          1.0791014974448405,
          0.956820666173485,
          0.860326601872097,
          0.7035074319041255,
          0.6583199934125588,
          0.7286467886058389,
          1.1711822741011382,
          1.3529804588010221,
          1.2671919459235672,
          1.0215864421747727,
          0.8038550549791202,
          0.7073971142004192,
          1.0389273545242328,
          1.3298936011621891,
          1.1334830887937213,
          1.2871319997137225,
          1.1594405416273912,
          1.3887998621253586,
          1.1591393940951065,
          1.1081703173283202,
          1.0655478542995267,
          1.0801348100463433,
          1.1994309567093733,
          1.22121489230483,
          1.1405891341623695,
          0.9668663611498333,
          0.8671996116146696,
          0.9001338534842886,
          1.0069877054180192,
          0.7711128651013296,
          0.5929895318245851,
          0.6716299906161884,
          0.6614668610598369,
          0.6932180868324371,
          0.8220044020825638,
          0.8393212353073813,
          0.7232036050030856,
          0.9411997448812576,
          0.9899425706295483,
          0.6948391182285862,
          0.6811453415132149,
          0.7152935225430973,
          0.6499672706551416,
          0.86548121470048,
          1.2993147630108932,
          1.4867455087988364,
          1.2695986224155216,
          1.2827641557056118,
          1.0935646479309022,
          1.0337210838270254,
          0.9990355163633291,
          0.9277423738428269,
          0.7045969826897288,
          0.707532909094564,
          0.8220611873272127,
          1.1636468104088347,
          0.8312357446022549,
          1.0096515240442958,
          1.0650089418742046,
          1.1118421220642682,
          0.9149235449900223,
          0.7252647130436481,
          1.0199400678738568,
          1.0538967346373145,
          0.9953182281796522,
          1.192247993456625,
          1.4748079290035812,
          1.7824037010829439,
          1.4675643232278455,
          1.4130317194131414,
          0.8760571830990178,
          0.8594725124746535,
          0.9267080507485838,
          0.8430056974279103,
          0.833997583149631,
          0.8093785839690413,
          0.683970666354121,
          0.7740426318231531,
          0.7509120531897043,
          0.5335351545772827,
          0.5472408752298011,
          0.5124027047857702,
          0.5537756684931682,
          1.0274438511269814,
          1.2130150973685632,
          1.2301684003289854,
          1.0400928091170192,
          1.1257459475011116,
          1.1023435495265097,
          1.1513380341945738,
          1.2056828474421792,
          1.2631844814643869,
          1.2886137134841322,
          1.2472689475485192,
          1.2304316136147457,
          1.1406195151012763,
          1.3069649311108062,
          1.1675813284388914,
          1.118368674808336,
          1.112352074461218,
          1.0791014974448405,
          0.956820666173485,
          0.860326601872097,
          0.7035074319041255,
          0.6583199934125588,
          0.7286467886058389,
          1.1711822741011382,
          1.3529804588010221,
          1.2671919459235672,
          1.0215864421747727,
          0.8038550549791202,
          0.7073971142004192,
          1.0389273545242328,
          1.3298936011621891,
          1.1334830887937213,
          1.2871319997137225,
          1.1594405416273912,
          1.3887998621253586,
          1.1591393940951065,
          1.1081703173283202,
          1.0655478542995267,
          1.0801348100463433,
          1.1994309567093733,
          1.22121489230483,
          1.1405891341623695,
          0.9668663611498333,
          0.8671996116146696,
          0.9001338534842886,
          1.0069877054180192,
          0.7711128651013296,
          0.5929895318245851,
          0.6716299906161884,
          0.6614668610598369,
          0.6932180868324371,
          0.8220044020825638,
          0.8393212353073813,
          0.7232036050030856,
          0.9411997448812576,
          0.9899425706295483,
          0.6948391182285862,
          0.6811453415132149,
          0.7152935225430973,
          0.6499672706551416,
          0.86548121470048,
          1.2993147630108932,
          1.4867455087988364,
          1.2695986224155216,
          1.2827641557056118,
          1.0935646479309022,
          1.0337210838270254,
          0.9990355163633291,
          0.9277423738428269,
          0.7045969826897288,
          0.707532909094564,
          0.8220611873272127,
          1.1636468104088347,
          0.8312357446022549,
          1.0096515240442958,
          1.0650089418742046,
          1.1118421220642682,
          0.9149235449900223,
          0.7252647130436481,
          1.0199400678738568,
          1.0538967346373145,
          0.9953182281796522,
          1.192247993456625,
          1.4748079290035812,
          1.7824037010829439,
          1.4675643232278455,
          1.4130317194131414,
          0.8760571830990178,
          0.8594725124746535,
          0.9267080507485838,
          0.8430056974279103,
          0.833997583149631,
          0.8093785839690413,
          0.683970666354121,
          0.7740426318231531,
          0.7509120531897043,
          0.5335351545772827,
          0.5472408752298011,
          0.5124027047857702,
          0.5537756684931682,
          1.0274438511269814,
          1.2130150973685632,
          1.2301684003289854,
          1.0400928091170192,
          1.1257459475011116,
          1.1023435495265097,
          1.1513380341945738,
          1.2056828474421792,
          1.2631844814643869,
          1.2886137134841322,
          1.2472689475485192,
          1.2304316136147457,
          1.1406195151012763,
          1.3069649311108062,
          1.1675813284388914,
          1.118368674808336,
          1.112352074461218,
          1.0791014974448405
         ],
         "yaxis": "y3"
        },
        {
         "marker": {
          "color": "#4C72B0",
          "line": {
           "color": "#4C72B0",
           "width": 1
          },
          "opacity": 1,
          "size": 6,
          "symbol": "circle"
         },
         "mode": "markers",
         "name": "_child0",
         "type": "scatter",
         "x": [
          0,
          1,
          2,
          3,
          4,
          5,
          6,
          7,
          8,
          9,
          10,
          11,
          12,
          13,
          14,
          15,
          16,
          17,
          18,
          19,
          20,
          21,
          22,
          23,
          24,
          25,
          26,
          27,
          28,
          29,
          30,
          31,
          32,
          33,
          34,
          35,
          36,
          37,
          38,
          39,
          40,
          41,
          42,
          43,
          44,
          45,
          46,
          47,
          48,
          49,
          50,
          51,
          52,
          53,
          54,
          55,
          56,
          57,
          58,
          59,
          60,
          61,
          62,
          63,
          64,
          65,
          66,
          67,
          68,
          69,
          70,
          71,
          72,
          73,
          74,
          75,
          76,
          77,
          78,
          79,
          80,
          81,
          82,
          83,
          84,
          85,
          86,
          87,
          88,
          89,
          90,
          91,
          92,
          93,
          94,
          95,
          96,
          97,
          98,
          99,
          100,
          101,
          102,
          103,
          104,
          105,
          106,
          107,
          108,
          109,
          110,
          111,
          112,
          113,
          114,
          115,
          116,
          117,
          118,
          119,
          120,
          121,
          122,
          123,
          124,
          125,
          126,
          127,
          128,
          129,
          130,
          131,
          132,
          133,
          134,
          135,
          136,
          137,
          138,
          139,
          140,
          141,
          142,
          143,
          144,
          145,
          146,
          147,
          148,
          149,
          150,
          151,
          152,
          153,
          154,
          155,
          156,
          157,
          158,
          159,
          160,
          161,
          162,
          163,
          164,
          165,
          166,
          167,
          168,
          169,
          170,
          171,
          172,
          173,
          174,
          175,
          176,
          177,
          178,
          179,
          180,
          181,
          182,
          183,
          184,
          185,
          186,
          187,
          188,
          189,
          190,
          191,
          192,
          193,
          194,
          195,
          196,
          197,
          198,
          199,
          200,
          201,
          202,
          203,
          204,
          205,
          206,
          207,
          208,
          209,
          210,
          211,
          212,
          213,
          214,
          215,
          216,
          217,
          218,
          219,
          220,
          221,
          222,
          223,
          224,
          225,
          226,
          227,
          228,
          229,
          230,
          231,
          232,
          233,
          234,
          235,
          236,
          237,
          238,
          239,
          240,
          241,
          242,
          243,
          244,
          245,
          246,
          247,
          248,
          249,
          250,
          251,
          252,
          253,
          254,
          255,
          256,
          257,
          258,
          259,
          260,
          261,
          262,
          263,
          264,
          265,
          266,
          267,
          268,
          269,
          270,
          271,
          272,
          273,
          274,
          275,
          276,
          277,
          278,
          279,
          280,
          281,
          282,
          283,
          284,
          285,
          286,
          287,
          288,
          289,
          290,
          291,
          292,
          293,
          294,
          295,
          296,
          297,
          298,
          299,
          300,
          301,
          302,
          303,
          304,
          305,
          306,
          307,
          308,
          309,
          310,
          311,
          312,
          313,
          314,
          315,
          316,
          317,
          318,
          319,
          320,
          321,
          322,
          323,
          324,
          325,
          326,
          327,
          328,
          329,
          330,
          331,
          332,
          333,
          334,
          335,
          336,
          337,
          338,
          339,
          340,
          341,
          342,
          343,
          344,
          345,
          346,
          347,
          348,
          349,
          350,
          351,
          352,
          353,
          354,
          355,
          356,
          357,
          358,
          359,
          360,
          361,
          362,
          363,
          364
         ],
         "xaxis": "x4",
         "y": [
          null,
          null,
          null,
          null,
          null,
          null,
          null,
          null,
          null,
          null,
          null,
          null,
          null,
          null,
          null,
          null,
          null,
          null,
          null,
          null,
          null,
          null,
          null,
          null,
          null,
          null,
          null,
          null,
          null,
          null,
          null,
          null,
          null,
          null,
          null,
          null,
          null,
          null,
          null,
          null,
          null,
          null,
          null,
          null,
          null,
          null,
          null,
          null,
          null,
          null,
          0.877959891771142,
          0.8718664204748326,
          0.8940470420945281,
          0.9197577513764459,
          1.0718682570828861,
          1.0951823576421504,
          1.0689668255235103,
          0.9998146392983062,
          1.1820398547526128,
          1.1485141687038176,
          1.1164863084225953,
          1.1518143211370864,
          1.2947929784492975,
          1.0081251434845715,
          1.1567342412281234,
          1.2100774361546232,
          1.0790212807979656,
          0.7872616411621737,
          0.639310785966701,
          0.6259849953103638,
          0.7962816339652775,
          0.7955723173664656,
          0.9148388459324653,
          0.9658412912405419,
          0.9454300133908444,
          0.8899101980264496,
          1.4108144492008583,
          1.6290239610920485,
          1.4607688601806508,
          1.3848386936707235,
          1.548252973470589,
          1.2844320010877828,
          1.4475545690406568,
          0.6955962432673618,
          0.7659337731521212,
          0.8669966209506031,
          0.8305631859239739,
          0.7492157248717123,
          0.9701676079483814,
          0.9256538373210863,
          1.0509328549654138,
          1.1656221611557707,
          1.148938441403175,
          1.249437834484949,
          1.5425909114247494,
          1.4953866808027398,
          1.4407947525307492,
          1.5480078077911996,
          1.1224409749264794,
          0.9199981541824677,
          1.2718555092412722,
          1.0888683858386834,
          1.1637432257561093,
          1.4285912471498128,
          1.2680854864658342,
          1.1848251972826742,
          1.3145793446789864,
          1.8170906877481352,
          1.2753261400544562,
          1.1633601617521994,
          0.9044027211980331,
          0.8158545656203713,
          1.049814135321149,
          1.0926456167854541,
          0.9713944142554171,
          1.153108629500214,
          1.2123867064584355,
          1.207425355962888,
          1.1475999485713404,
          0.6675516215004973,
          0.8863165449908778,
          0.8242384316579733,
          0.840507475178276,
          0.8639407225285468,
          1.0236080383665982,
          0.9490754128159998,
          1.1290888735096711,
          1.11935663788122,
          1.1562871426555428,
          1.1362310914895324,
          1.2017407643469797,
          0.9131905029828573,
          1.2180551632130834,
          1.1138658788922378,
          0.44916257800058523,
          0.34707658971142746,
          0.2594991062172052,
          0.22600056588840486,
          0.17769858289603072,
          0.267085542416121,
          0.20774353026119455,
          0.2882145129776494,
          0.3618860866332626,
          0.3226712751168102,
          0.33449281209605436,
          0.3477056493909109,
          0.426986020742292,
          1.116267187939819,
          1.2577652437502276,
          0.96392425248441,
          1.1162411212248708,
          1.255526535453839,
          1.1239254774451253,
          0.9856590092447255,
          0.9609335910535145,
          1.130400385794286,
          1.3680919888256367,
          1.3227846452981367,
          1.12920691923276,
          1.1430177038949771,
          1.310190791267652,
          1.310797459564069,
          1.2434137328862476,
          1.4958631693013553,
          1.400696818816234,
          1.3166313708764517,
          1.4604893891369777,
          1.6118529867388927,
          1.7211662899716749,
          1.648160860120243,
          1.6533838725525323,
          1.7419247403627849,
          1.6343307483858847,
          1.541877117151068,
          1.252786154578561,
          1.1220268567714076,
          1.030275001650205,
          0.8065794406403145,
          0.7741695802994687,
          0.8558755576359885,
          0.7036849112003492,
          1.1081312148898856,
          0.8258874188608136,
          1.413980813657263,
          1.184089164001304,
          1.206806972279554,
          1.2779524594339005,
          1.4824474050759793,
          1.259533503454823,
          1.110967994816035,
          1.0943874748198341,
          1.0746188568399448,
          0.7116081009610083,
          1.0005834683279886,
          0.6531633998227537,
          0.42624034150367207,
          0.5025299637972724,
          0.5831159457283499,
          1.1122585912658713,
          1.3496766381984646,
          0.6979713505902153,
          0.9033702542015826,
          0.9792056047357461,
          0.43301194017373945,
          0.46986136255183797,
          0.5274008204774906,
          0.40818371653678753,
          0.43983251330896883,
          0.4843975091461517,
          0.5364922940895054,
          0.4575235275214361,
          0.5343826681101456,
          1.1586241855757897,
          1.1163711510790122,
          1.090619249996742,
          0.8835683483618719,
          0.8242902714036503,
          0.8292516218991979,
          0.8890770292907451,
          1.3691253563615886,
          1.150360432871208,
          1.2124385462041123,
          1.19616950268381,
          1.1727362553335392,
          1.0130689394954877,
          1.0876015650460862,
          0.9075881043524148,
          0.9173203399808658,
          0.8803898352065427,
          0.9004458863725534,
          0.8349362135151062,
          1.1234864748792288,
          0.8186218146490027,
          0.9228110989698479,
          1.587514399861501,
          1.6896003881506585,
          1.777177871644881,
          1.8106764119736811,
          1.8589783949660552,
          1.769591435445965,
          1.8289334476008912,
          1.7484624648844365,
          1.6747908912288234,
          1.7140057027452755,
          1.702184165766032,
          1.688971328471175,
          1.6096909571197937,
          0.920409789922267,
          0.7789117341118582,
          1.072752725377676,
          1.0608144537971163,
          0.9276225108644572,
          1.0370429472534755,
          1.149598706171957,
          1.0222136186567279,
          0.829432723356693,
          0.6179566524439816,
          0.7324161821966866,
          0.7437686928077559,
          0.7634835941943341,
          0.6283383671028814,
          0.592403686091974,
          0.5168087554575833,
          0.5510271540072021,
          0.49758440674877125,
          0.5283066597620534,
          0.5155047968581857,
          0.6559008388920622,
          0.6945383908547526,
          0.7808696113625216,
          0.6053499602753185,
          0.5175184090638785,
          0.5058458724747785,
          0.547297058401519,
          0.8567992988237232,
          1.0430784119952716,
          0.6139260159420656,
          0.6194120650607663,
          0.8200770263130093,
          0.8143012154864168,
          0.8030775821221907,
          0.6624522508154604,
          0.7815734788916591,
          0.9454384098685039,
          1.1049925296397038,
          0.9812118735629722,
          0.9464998214352541,
          0.823352336845437,
          0.8253143553899246,
          1.0183936346560076,
          0.909695137007881,
          0.8147744487974132,
          1.1944689244289457,
          0.8049941639801919,
          0.8592611555456257,
          1.1333884444867164,
          1.1116907504651077,
          0.9238917132735786,
          0.8203159006007782,
          0.7853406744121963,
          1.0851886069616414,
          1.062776826752863,
          0.9120666363012734,
          1.1934122794695765,
          1.317068617775457,
          1.3427894490329644,
          1.3322524055773546,
          0.7980922657360251,
          1.295291817592521,
          1.3551630109514243,
          1.6930892180736594,
          1.704778233062612,
          0.8465771458961897,
          0.8459986989286624,
          0.9930018025409699,
          null,
          null,
          null,
          null,
          null,
          null,
          null,
          null,
          null,
          null,
          null,
          null,
          null,
          null,
          null,
          null,
          null,
          null,
          null,
          null,
          null,
          null,
          null,
          null,
          null,
          null,
          null,
          null,
          null,
          null,
          null,
          null,
          null,
          null,
          null,
          null,
          null,
          null,
          null,
          null,
          null,
          null,
          null,
          null,
          null,
          null,
          null,
          null,
          null,
          null
         ],
         "yaxis": "y4"
        },
        {
         "line": {
          "color": "rgba (0, 0, 0, 1)",
          "dash": "solid",
          "width": 1.5
         },
         "mode": "lines",
         "name": "_child1",
         "type": "scatter",
         "x": [
          0,
          364
         ],
         "xaxis": "x4",
         "y": [
          0,
          0
         ],
         "yaxis": "y4"
        }
       ],
       "layout": {
        "annotations": [
         {
          "font": {
           "color": "#262626",
           "size": 12
          },
          "showarrow": false,
          "text": "Instagram reach",
          "x": 0.49999999999999983,
          "xanchor": "center",
          "xref": "paper",
          "y": 1.0523717248908298,
          "yanchor": "bottom",
          "yref": "paper"
         }
        ],
        "autosize": false,
        "height": 288,
        "hovermode": "closest",
        "margin": {
         "b": 32,
         "l": 66,
         "pad": 0,
         "r": 12,
         "t": 27
        },
        "showlegend": false,
        "template": {
         "data": {
          "bar": [
           {
            "error_x": {
             "color": "#2a3f5f"
            },
            "error_y": {
             "color": "#2a3f5f"
            },
            "marker": {
             "line": {
              "color": "#E5ECF6",
              "width": 0.5
             },
             "pattern": {
              "fillmode": "overlay",
              "size": 10,
              "solidity": 0.2
             }
            },
            "type": "bar"
           }
          ],
          "barpolar": [
           {
            "marker": {
             "line": {
              "color": "#E5ECF6",
              "width": 0.5
             },
             "pattern": {
              "fillmode": "overlay",
              "size": 10,
              "solidity": 0.2
             }
            },
            "type": "barpolar"
           }
          ],
          "carpet": [
           {
            "aaxis": {
             "endlinecolor": "#2a3f5f",
             "gridcolor": "white",
             "linecolor": "white",
             "minorgridcolor": "white",
             "startlinecolor": "#2a3f5f"
            },
            "baxis": {
             "endlinecolor": "#2a3f5f",
             "gridcolor": "white",
             "linecolor": "white",
             "minorgridcolor": "white",
             "startlinecolor": "#2a3f5f"
            },
            "type": "carpet"
           }
          ],
          "choropleth": [
           {
            "colorbar": {
             "outlinewidth": 0,
             "ticks": ""
            },
            "type": "choropleth"
           }
          ],
          "contour": [
           {
            "colorbar": {
             "outlinewidth": 0,
             "ticks": ""
            },
            "colorscale": [
             [
              0,
              "#0d0887"
             ],
             [
              0.1111111111111111,
              "#46039f"
             ],
             [
              0.2222222222222222,
              "#7201a8"
             ],
             [
              0.3333333333333333,
              "#9c179e"
             ],
             [
              0.4444444444444444,
              "#bd3786"
             ],
             [
              0.5555555555555556,
              "#d8576b"
             ],
             [
              0.6666666666666666,
              "#ed7953"
             ],
             [
              0.7777777777777778,
              "#fb9f3a"
             ],
             [
              0.8888888888888888,
              "#fdca26"
             ],
             [
              1,
              "#f0f921"
             ]
            ],
            "type": "contour"
           }
          ],
          "contourcarpet": [
           {
            "colorbar": {
             "outlinewidth": 0,
             "ticks": ""
            },
            "type": "contourcarpet"
           }
          ],
          "heatmap": [
           {
            "colorbar": {
             "outlinewidth": 0,
             "ticks": ""
            },
            "colorscale": [
             [
              0,
              "#0d0887"
             ],
             [
              0.1111111111111111,
              "#46039f"
             ],
             [
              0.2222222222222222,
              "#7201a8"
             ],
             [
              0.3333333333333333,
              "#9c179e"
             ],
             [
              0.4444444444444444,
              "#bd3786"
             ],
             [
              0.5555555555555556,
              "#d8576b"
             ],
             [
              0.6666666666666666,
              "#ed7953"
             ],
             [
              0.7777777777777778,
              "#fb9f3a"
             ],
             [
              0.8888888888888888,
              "#fdca26"
             ],
             [
              1,
              "#f0f921"
             ]
            ],
            "type": "heatmap"
           }
          ],
          "heatmapgl": [
           {
            "colorbar": {
             "outlinewidth": 0,
             "ticks": ""
            },
            "colorscale": [
             [
              0,
              "#0d0887"
             ],
             [
              0.1111111111111111,
              "#46039f"
             ],
             [
              0.2222222222222222,
              "#7201a8"
             ],
             [
              0.3333333333333333,
              "#9c179e"
             ],
             [
              0.4444444444444444,
              "#bd3786"
             ],
             [
              0.5555555555555556,
              "#d8576b"
             ],
             [
              0.6666666666666666,
              "#ed7953"
             ],
             [
              0.7777777777777778,
              "#fb9f3a"
             ],
             [
              0.8888888888888888,
              "#fdca26"
             ],
             [
              1,
              "#f0f921"
             ]
            ],
            "type": "heatmapgl"
           }
          ],
          "histogram": [
           {
            "marker": {
             "pattern": {
              "fillmode": "overlay",
              "size": 10,
              "solidity": 0.2
             }
            },
            "type": "histogram"
           }
          ],
          "histogram2d": [
           {
            "colorbar": {
             "outlinewidth": 0,
             "ticks": ""
            },
            "colorscale": [
             [
              0,
              "#0d0887"
             ],
             [
              0.1111111111111111,
              "#46039f"
             ],
             [
              0.2222222222222222,
              "#7201a8"
             ],
             [
              0.3333333333333333,
              "#9c179e"
             ],
             [
              0.4444444444444444,
              "#bd3786"
             ],
             [
              0.5555555555555556,
              "#d8576b"
             ],
             [
              0.6666666666666666,
              "#ed7953"
             ],
             [
              0.7777777777777778,
              "#fb9f3a"
             ],
             [
              0.8888888888888888,
              "#fdca26"
             ],
             [
              1,
              "#f0f921"
             ]
            ],
            "type": "histogram2d"
           }
          ],
          "histogram2dcontour": [
           {
            "colorbar": {
             "outlinewidth": 0,
             "ticks": ""
            },
            "colorscale": [
             [
              0,
              "#0d0887"
             ],
             [
              0.1111111111111111,
              "#46039f"
             ],
             [
              0.2222222222222222,
              "#7201a8"
             ],
             [
              0.3333333333333333,
              "#9c179e"
             ],
             [
              0.4444444444444444,
              "#bd3786"
             ],
             [
              0.5555555555555556,
              "#d8576b"
             ],
             [
              0.6666666666666666,
              "#ed7953"
             ],
             [
              0.7777777777777778,
              "#fb9f3a"
             ],
             [
              0.8888888888888888,
              "#fdca26"
             ],
             [
              1,
              "#f0f921"
             ]
            ],
            "type": "histogram2dcontour"
           }
          ],
          "mesh3d": [
           {
            "colorbar": {
             "outlinewidth": 0,
             "ticks": ""
            },
            "type": "mesh3d"
           }
          ],
          "parcoords": [
           {
            "line": {
             "colorbar": {
              "outlinewidth": 0,
              "ticks": ""
             }
            },
            "type": "parcoords"
           }
          ],
          "pie": [
           {
            "automargin": true,
            "type": "pie"
           }
          ],
          "scatter": [
           {
            "fillpattern": {
             "fillmode": "overlay",
             "size": 10,
             "solidity": 0.2
            },
            "type": "scatter"
           }
          ],
          "scatter3d": [
           {
            "line": {
             "colorbar": {
              "outlinewidth": 0,
              "ticks": ""
             }
            },
            "marker": {
             "colorbar": {
              "outlinewidth": 0,
              "ticks": ""
             }
            },
            "type": "scatter3d"
           }
          ],
          "scattercarpet": [
           {
            "marker": {
             "colorbar": {
              "outlinewidth": 0,
              "ticks": ""
             }
            },
            "type": "scattercarpet"
           }
          ],
          "scattergeo": [
           {
            "marker": {
             "colorbar": {
              "outlinewidth": 0,
              "ticks": ""
             }
            },
            "type": "scattergeo"
           }
          ],
          "scattergl": [
           {
            "marker": {
             "colorbar": {
              "outlinewidth": 0,
              "ticks": ""
             }
            },
            "type": "scattergl"
           }
          ],
          "scattermapbox": [
           {
            "marker": {
             "colorbar": {
              "outlinewidth": 0,
              "ticks": ""
             }
            },
            "type": "scattermapbox"
           }
          ],
          "scatterpolar": [
           {
            "marker": {
             "colorbar": {
              "outlinewidth": 0,
              "ticks": ""
             }
            },
            "type": "scatterpolar"
           }
          ],
          "scatterpolargl": [
           {
            "marker": {
             "colorbar": {
              "outlinewidth": 0,
              "ticks": ""
             }
            },
            "type": "scatterpolargl"
           }
          ],
          "scatterternary": [
           {
            "marker": {
             "colorbar": {
              "outlinewidth": 0,
              "ticks": ""
             }
            },
            "type": "scatterternary"
           }
          ],
          "surface": [
           {
            "colorbar": {
             "outlinewidth": 0,
             "ticks": ""
            },
            "colorscale": [
             [
              0,
              "#0d0887"
             ],
             [
              0.1111111111111111,
              "#46039f"
             ],
             [
              0.2222222222222222,
              "#7201a8"
             ],
             [
              0.3333333333333333,
              "#9c179e"
             ],
             [
              0.4444444444444444,
              "#bd3786"
             ],
             [
              0.5555555555555556,
              "#d8576b"
             ],
             [
              0.6666666666666666,
              "#ed7953"
             ],
             [
              0.7777777777777778,
              "#fb9f3a"
             ],
             [
              0.8888888888888888,
              "#fdca26"
             ],
             [
              1,
              "#f0f921"
             ]
            ],
            "type": "surface"
           }
          ],
          "table": [
           {
            "cells": {
             "fill": {
              "color": "#EBF0F8"
             },
             "line": {
              "color": "white"
             }
            },
            "header": {
             "fill": {
              "color": "#C8D4E3"
             },
             "line": {
              "color": "white"
             }
            },
            "type": "table"
           }
          ]
         },
         "layout": {
          "annotationdefaults": {
           "arrowcolor": "#2a3f5f",
           "arrowhead": 0,
           "arrowwidth": 1
          },
          "autotypenumbers": "strict",
          "coloraxis": {
           "colorbar": {
            "outlinewidth": 0,
            "ticks": ""
           }
          },
          "colorscale": {
           "diverging": [
            [
             0,
             "#8e0152"
            ],
            [
             0.1,
             "#c51b7d"
            ],
            [
             0.2,
             "#de77ae"
            ],
            [
             0.3,
             "#f1b6da"
            ],
            [
             0.4,
             "#fde0ef"
            ],
            [
             0.5,
             "#f7f7f7"
            ],
            [
             0.6,
             "#e6f5d0"
            ],
            [
             0.7,
             "#b8e186"
            ],
            [
             0.8,
             "#7fbc41"
            ],
            [
             0.9,
             "#4d9221"
            ],
            [
             1,
             "#276419"
            ]
           ],
           "sequential": [
            [
             0,
             "#0d0887"
            ],
            [
             0.1111111111111111,
             "#46039f"
            ],
            [
             0.2222222222222222,
             "#7201a8"
            ],
            [
             0.3333333333333333,
             "#9c179e"
            ],
            [
             0.4444444444444444,
             "#bd3786"
            ],
            [
             0.5555555555555556,
             "#d8576b"
            ],
            [
             0.6666666666666666,
             "#ed7953"
            ],
            [
             0.7777777777777778,
             "#fb9f3a"
            ],
            [
             0.8888888888888888,
             "#fdca26"
            ],
            [
             1,
             "#f0f921"
            ]
           ],
           "sequentialminus": [
            [
             0,
             "#0d0887"
            ],
            [
             0.1111111111111111,
             "#46039f"
            ],
            [
             0.2222222222222222,
             "#7201a8"
            ],
            [
             0.3333333333333333,
             "#9c179e"
            ],
            [
             0.4444444444444444,
             "#bd3786"
            ],
            [
             0.5555555555555556,
             "#d8576b"
            ],
            [
             0.6666666666666666,
             "#ed7953"
            ],
            [
             0.7777777777777778,
             "#fb9f3a"
            ],
            [
             0.8888888888888888,
             "#fdca26"
            ],
            [
             1,
             "#f0f921"
            ]
           ]
          },
          "colorway": [
           "#636efa",
           "#EF553B",
           "#00cc96",
           "#ab63fa",
           "#FFA15A",
           "#19d3f3",
           "#FF6692",
           "#B6E880",
           "#FF97FF",
           "#FECB52"
          ],
          "font": {
           "color": "#2a3f5f"
          },
          "geo": {
           "bgcolor": "white",
           "lakecolor": "white",
           "landcolor": "#E5ECF6",
           "showlakes": true,
           "showland": true,
           "subunitcolor": "white"
          },
          "hoverlabel": {
           "align": "left"
          },
          "hovermode": "closest",
          "mapbox": {
           "style": "light"
          },
          "paper_bgcolor": "white",
          "plot_bgcolor": "#E5ECF6",
          "polar": {
           "angularaxis": {
            "gridcolor": "white",
            "linecolor": "white",
            "ticks": ""
           },
           "bgcolor": "#E5ECF6",
           "radialaxis": {
            "gridcolor": "white",
            "linecolor": "white",
            "ticks": ""
           }
          },
          "scene": {
           "xaxis": {
            "backgroundcolor": "#E5ECF6",
            "gridcolor": "white",
            "gridwidth": 2,
            "linecolor": "white",
            "showbackground": true,
            "ticks": "",
            "zerolinecolor": "white"
           },
           "yaxis": {
            "backgroundcolor": "#E5ECF6",
            "gridcolor": "white",
            "gridwidth": 2,
            "linecolor": "white",
            "showbackground": true,
            "ticks": "",
            "zerolinecolor": "white"
           },
           "zaxis": {
            "backgroundcolor": "#E5ECF6",
            "gridcolor": "white",
            "gridwidth": 2,
            "linecolor": "white",
            "showbackground": true,
            "ticks": "",
            "zerolinecolor": "white"
           }
          },
          "shapedefaults": {
           "line": {
            "color": "#2a3f5f"
           }
          },
          "ternary": {
           "aaxis": {
            "gridcolor": "white",
            "linecolor": "white",
            "ticks": ""
           },
           "baxis": {
            "gridcolor": "white",
            "linecolor": "white",
            "ticks": ""
           },
           "bgcolor": "#E5ECF6",
           "caxis": {
            "gridcolor": "white",
            "linecolor": "white",
            "ticks": ""
           }
          },
          "title": {
           "x": 0.05
          },
          "xaxis": {
           "automargin": true,
           "gridcolor": "white",
           "linecolor": "white",
           "ticks": "",
           "title": {
            "standoff": 15
           },
           "zerolinecolor": "white",
           "zerolinewidth": 2
          },
          "yaxis": {
           "automargin": true,
           "gridcolor": "white",
           "linecolor": "white",
           "ticks": "",
           "title": {
            "standoff": 15
           },
           "zerolinecolor": "white",
           "zerolinewidth": 2
          }
         }
        },
        "width": 432,
        "xaxis": {
         "anchor": "y",
         "domain": [
          0,
          1
         ],
         "mirror": "ticks",
         "nticks": 9,
         "range": [
          0,
          364
         ],
         "showgrid": true,
         "showline": true,
         "side": "top",
         "ticks": "inside",
         "type": "linear",
         "zeroline": false
        },
        "xaxis2": {
         "anchor": "y2",
         "domain": [
          0,
          1
         ],
         "mirror": "ticks",
         "nticks": 9,
         "range": [
          0,
          364
         ],
         "showgrid": true,
         "showline": true,
         "side": "top",
         "ticks": "inside",
         "type": "linear",
         "zeroline": false
        },
        "xaxis3": {
         "anchor": "y3",
         "domain": [
          0,
          1
         ],
         "mirror": "ticks",
         "nticks": 9,
         "range": [
          0,
          364
         ],
         "showgrid": true,
         "showline": true,
         "side": "top",
         "ticks": "inside",
         "type": "linear",
         "zeroline": false
        },
        "xaxis4": {
         "anchor": "y4",
         "domain": [
          0,
          1
         ],
         "mirror": "ticks",
         "nticks": 9,
         "range": [
          0,
          364
         ],
         "showgrid": true,
         "showline": true,
         "side": "bottom",
         "tickfont": {
          "size": 11
         },
         "ticks": "inside",
         "type": "linear",
         "zeroline": false
        },
        "yaxis": {
         "anchor": "x",
         "domain": [
          0.812132580581599,
          1
         ],
         "mirror": "ticks",
         "nticks": 4,
         "range": [
          -98.90000000000055,
          169716.9
         ],
         "showgrid": true,
         "showline": true,
         "side": "left",
         "tickfont": {
          "size": 11
         },
         "ticks": "inside",
         "type": "linear",
         "zeroline": false
        },
        "yaxis2": {
         "anchor": "x2",
         "domain": [
          0.5414217203877327,
          0.7292891398061337
         ],
         "mirror": "ticks",
         "nticks": 4,
         "range": [
          25786.783000000003,
          80421.18699999999
         ],
         "showgrid": true,
         "showline": true,
         "side": "left",
         "tickfont": {
          "size": 11
         },
         "ticks": "inside",
         "title": {
          "font": {
           "color": "#262626",
           "size": 12
          },
          "text": "Trend"
         },
         "type": "linear",
         "zeroline": false
        },
        "yaxis3": {
         "anchor": "x3",
         "domain": [
          0.2707108601938664,
          0.4585782796122674
         ],
         "mirror": "ticks",
         "nticks": 5,
         "range": [
          0.44890265497091153,
          1.8459037508978025
         ],
         "showgrid": true,
         "showline": true,
         "side": "left",
         "tickfont": {
          "size": 11
         },
         "ticks": "inside",
         "title": {
          "font": {
           "color": "#262626",
           "size": 12
          },
          "text": "Seasonal"
         },
         "type": "linear",
         "zeroline": false
        },
        "yaxis4": {
         "anchor": "x4",
         "domain": [
          0,
          0.18786741941840102
         ],
         "mirror": "ticks",
         "nticks": 4,
         "range": [
          -0.09294891974830277,
          1.951927314714358
         ],
         "showgrid": true,
         "showline": true,
         "side": "left",
         "tickfont": {
          "size": 11
         },
         "ticks": "inside",
         "title": {
          "font": {
           "color": "#262626",
           "size": 12
          },
          "text": "Resid"
         },
         "type": "linear",
         "zeroline": false
        }
       }
      },
      "text/html": [
       "<div>                            <div id=\"057a7d35-2a28-440f-a2da-18823854b093\" class=\"plotly-graph-div\" style=\"height:288px; width:432px;\"></div>            <script type=\"text/javascript\">                require([\"plotly\"], function(Plotly) {                    window.PLOTLYENV=window.PLOTLYENV || {};                                    if (document.getElementById(\"057a7d35-2a28-440f-a2da-18823854b093\")) {                    Plotly.newPlot(                        \"057a7d35-2a28-440f-a2da-18823854b093\",                        [{\"line\":{\"color\":\"rgba (76, 114, 176, 1)\",\"dash\":\"solid\",\"width\":1.5},\"mode\":\"lines\",\"name\":\"_child0\",\"x\":[0.0,1.0,2.0,3.0,4.0,5.0,6.0,7.0,8.0,9.0,10.0,11.0,12.0,13.0,14.0,15.0,16.0,17.0,18.0,19.0,20.0,21.0,22.0,23.0,24.0,25.0,26.0,27.0,28.0,29.0,30.0,31.0,32.0,33.0,34.0,35.0,36.0,37.0,38.0,39.0,40.0,41.0,42.0,43.0,44.0,45.0,46.0,47.0,48.0,49.0,50.0,51.0,52.0,53.0,54.0,55.0,56.0,57.0,58.0,59.0,60.0,61.0,62.0,63.0,64.0,65.0,66.0,67.0,68.0,69.0,70.0,71.0,72.0,73.0,74.0,75.0,76.0,77.0,78.0,79.0,80.0,81.0,82.0,83.0,84.0,85.0,86.0,87.0,88.0,89.0,90.0,91.0,92.0,93.0,94.0,95.0,96.0,97.0,98.0,99.0,100.0,101.0,102.0,103.0,104.0,105.0,106.0,107.0,108.0,109.0,110.0,111.0,112.0,113.0,114.0,115.0,116.0,117.0,118.0,119.0,120.0,121.0,122.0,123.0,124.0,125.0,126.0,127.0,128.0,129.0,130.0,131.0,132.0,133.0,134.0,135.0,136.0,137.0,138.0,139.0,140.0,141.0,142.0,143.0,144.0,145.0,146.0,147.0,148.0,149.0,150.0,151.0,152.0,153.0,154.0,155.0,156.0,157.0,158.0,159.0,160.0,161.0,162.0,163.0,164.0,165.0,166.0,167.0,168.0,169.0,170.0,171.0,172.0,173.0,174.0,175.0,176.0,177.0,178.0,179.0,180.0,181.0,182.0,183.0,184.0,185.0,186.0,187.0,188.0,189.0,190.0,191.0,192.0,193.0,194.0,195.0,196.0,197.0,198.0,199.0,200.0,201.0,202.0,203.0,204.0,205.0,206.0,207.0,208.0,209.0,210.0,211.0,212.0,213.0,214.0,215.0,216.0,217.0,218.0,219.0,220.0,221.0,222.0,223.0,224.0,225.0,226.0,227.0,228.0,229.0,230.0,231.0,232.0,233.0,234.0,235.0,236.0,237.0,238.0,239.0,240.0,241.0,242.0,243.0,244.0,245.0,246.0,247.0,248.0,249.0,250.0,251.0,252.0,253.0,254.0,255.0,256.0,257.0,258.0,259.0,260.0,261.0,262.0,263.0,264.0,265.0,266.0,267.0,268.0,269.0,270.0,271.0,272.0,273.0,274.0,275.0,276.0,277.0,278.0,279.0,280.0,281.0,282.0,283.0,284.0,285.0,286.0,287.0,288.0,289.0,290.0,291.0,292.0,293.0,294.0,295.0,296.0,297.0,298.0,299.0,300.0,301.0,302.0,303.0,304.0,305.0,306.0,307.0,308.0,309.0,310.0,311.0,312.0,313.0,314.0,315.0,316.0,317.0,318.0,319.0,320.0,321.0,322.0,323.0,324.0,325.0,326.0,327.0,328.0,329.0,330.0,331.0,332.0,333.0,334.0,335.0,336.0,337.0,338.0,339.0,340.0,341.0,342.0,343.0,344.0,345.0,346.0,347.0,348.0,349.0,350.0,351.0,352.0,353.0,354.0,355.0,356.0,357.0,358.0,359.0,360.0,361.0,362.0,363.0,364.0],\"xaxis\":\"x\",\"y\":[7620.0,12859.0,16008.0,24349.0,20532.0,19408.0,14941.0,17263.0,20224.0,30471.0,39774.0,43550.0,42342.0,55477.0,54391.0,44108.0,49089.0,42790.0,49940.0,45763.0,38457.0,45197.0,42367.0,36076.0,34467.0,36772.0,35349.0,27926.0,26184.0,26410.0,32637.0,42204.0,47632.0,35793.0,35945.0,35574.0,26940.0,27495.0,19660.0,24138.0,23391.0,16748.0,17489.0,18171.0,29682.0,33085.0,50797.0,54392.0,35649.0,33654.0,46443.0,50465.0,51263.0,55647.0,68448.0,73815.0,74077.0,67922.0,80600.0,73835.0,83221.0,77190.0,83630.0,65133.0,72761.0,67778.0,54560.0,32643.0,24889.0,27046.0,55433.0,64168.0,69366.0,59358.0,46011.0,38286.0,89665.0,133807.0,103309.0,112461.0,114870.0,115782.0,110319.0,51336.0,54666.0,62637.0,66525.0,61001.0,73659.0,59505.0,60504.0,69593.0,76763.0,63917.0,60591.0,66350.0,62711.0,70608.0,61222.0,51758.0,62099.0,69686.0,78896.0,68331.0,59660.0,58746.0,59599.0,110544.0,117070.0,122530.0,81669.0,74793.0,82299.0,81336.0,70291.0,77767.0,62322.0,62659.0,69659.0,57778.0,55289.0,63183.0,68727.0,74334.0,72809.0,53647.0,89747.0,91473.0,88629.0,103756.0,134856.0,123226.0,134762.0,118660.0,29813.0,22671.0,18341.0,14616.0,11427.0,16703.0,10989.0,17251.0,20968.0,13249.0,14045.0,13598.0,17944.0,86559.0,114821.0,89385.0,87489.0,106211.0,92920.0,84745.0,86010.0,105478.0,129544.0,120165.0,100047.0,92885.0,120963.0,107493.0,97374.0,116321.0,105488.0,87666.0,87047.0,78212.0,77807.0,82448.0,133156.0,161998.0,142298.0,108106.0,68922.0,54147.0,72691.0,72354.0,58779.0,73231.0,53697.0,100440.0,61940.0,100277.0,80560.0,83699.0,99136.0,118015.0,94388.0,71084.0,63193.0,64780.0,48227.0,52129.0,26257.0,19469.0,22669.0,27502.0,61623.0,75694.0,33518.0,55984.0,63264.0,19509.0,20633.0,24122.0,16745.0,23674.0,38667.0,48504.0,34889.0,40588.0,74032.0,66457.0,61773.0,45842.0,32075.0,32016.0,39436.0,84987.0,50200.0,62769.0,63688.0,63829.0,44754.0,37796.0,43987.0,45479.0,40908.0,49767.0,56708.0,91287.0,54146.0,58121.0,61232.0,63271.0,70836.0,64517.0,64358.0,58697.0,50766.0,54373.0,50188.0,36290.0,36760.0,34121.0,35159.0,37259.0,36993.0,51028.0,42299.0,39843.0,43256.0,49872.0,46505.0,39585.0,30135.0,34592.0,34681.0,33083.0,31342.0,26562.0,22119.0,23183.0,20108.0,18793.0,16431.0,17075.0,16881.0,20798.0,25612.0,25070.0,22686.0,19555.0,23887.0,25451.0,21871.0,28045.0,31426.0,35156.0,30881.0,29980.0,29092.0,33687.0,38209.0,34486.0,36539.0,31826.0,29354.0,30277.0,24114.0,22497.0,36816.0,18850.0,15411.0,23006.0,22257.0,19413.0,20392.0,19793.0,23358.0,29541.0,26580.0,24459.0,26401.0,28053.0,25138.0,19939.0,48309.0,57526.0,61022.0,61822.0,26224.0,24975.0,28476.0,24834.0,27249.0,28076.0,26542.0,24477.0,25137.0,23645.0,20195.0,24079.0,25884.0,18755.0,22528.0,18026.0,20873.0,16639.0,14482.0,17726.0,32823.0,87649.0,91367.0,50625.0,12823.0,15866.0,19175.0,17065.0,56023.0,70632.0,20629.0,17595.0,31142.0,35195.0,43031.0,38135.0,22214.0,23075.0,17173.0,18978.0,45343.0,59259.0,23662.0,18075.0,16319.0,15612.0,21229.0,16080.0,15622.0,18645.0,41238.0,50490.0,22014.0],\"yaxis\":\"y\",\"type\":\"scatter\"},{\"line\":{\"color\":\"rgba (76, 114, 176, 1)\",\"dash\":\"solid\",\"width\":1.5},\"mode\":\"lines\",\"name\":\"_child0\",\"x\":[0.0,1.0,2.0,3.0,4.0,5.0,6.0,7.0,8.0,9.0,10.0,11.0,12.0,13.0,14.0,15.0,16.0,17.0,18.0,19.0,20.0,21.0,22.0,23.0,24.0,25.0,26.0,27.0,28.0,29.0,30.0,31.0,32.0,33.0,34.0,35.0,36.0,37.0,38.0,39.0,40.0,41.0,42.0,43.0,44.0,45.0,46.0,47.0,48.0,49.0,50.0,51.0,52.0,53.0,54.0,55.0,56.0,57.0,58.0,59.0,60.0,61.0,62.0,63.0,64.0,65.0,66.0,67.0,68.0,69.0,70.0,71.0,72.0,73.0,74.0,75.0,76.0,77.0,78.0,79.0,80.0,81.0,82.0,83.0,84.0,85.0,86.0,87.0,88.0,89.0,90.0,91.0,92.0,93.0,94.0,95.0,96.0,97.0,98.0,99.0,100.0,101.0,102.0,103.0,104.0,105.0,106.0,107.0,108.0,109.0,110.0,111.0,112.0,113.0,114.0,115.0,116.0,117.0,118.0,119.0,120.0,121.0,122.0,123.0,124.0,125.0,126.0,127.0,128.0,129.0,130.0,131.0,132.0,133.0,134.0,135.0,136.0,137.0,138.0,139.0,140.0,141.0,142.0,143.0,144.0,145.0,146.0,147.0,148.0,149.0,150.0,151.0,152.0,153.0,154.0,155.0,156.0,157.0,158.0,159.0,160.0,161.0,162.0,163.0,164.0,165.0,166.0,167.0,168.0,169.0,170.0,171.0,172.0,173.0,174.0,175.0,176.0,177.0,178.0,179.0,180.0,181.0,182.0,183.0,184.0,185.0,186.0,187.0,188.0,189.0,190.0,191.0,192.0,193.0,194.0,195.0,196.0,197.0,198.0,199.0,200.0,201.0,202.0,203.0,204.0,205.0,206.0,207.0,208.0,209.0,210.0,211.0,212.0,213.0,214.0,215.0,216.0,217.0,218.0,219.0,220.0,221.0,222.0,223.0,224.0,225.0,226.0,227.0,228.0,229.0,230.0,231.0,232.0,233.0,234.0,235.0,236.0,237.0,238.0,239.0,240.0,241.0,242.0,243.0,244.0,245.0,246.0,247.0,248.0,249.0,250.0,251.0,252.0,253.0,254.0,255.0,256.0,257.0,258.0,259.0,260.0,261.0,262.0,263.0,264.0,265.0,266.0,267.0,268.0,269.0,270.0,271.0,272.0,273.0,274.0,275.0,276.0,277.0,278.0,279.0,280.0,281.0,282.0,283.0,284.0,285.0,286.0,287.0,288.0,289.0,290.0,291.0,292.0,293.0,294.0,295.0,296.0,297.0,298.0,299.0,300.0,301.0,302.0,303.0,304.0,305.0,306.0,307.0,308.0,309.0,310.0,311.0,312.0,313.0,314.0,315.0,316.0,317.0,318.0,319.0,320.0,321.0,322.0,323.0,324.0,325.0,326.0,327.0,328.0,329.0,330.0,331.0,332.0,333.0,334.0,335.0,336.0,337.0,338.0,339.0,340.0,341.0,342.0,343.0,344.0,345.0,346.0,347.0,348.0,349.0,350.0,351.0,352.0,353.0,354.0,355.0,356.0,357.0,358.0,359.0,360.0,361.0,362.0,363.0,364.0],\"xaxis\":\"x2\",\"y\":[null,null,null,null,null,null,null,null,null,null,null,null,null,null,null,null,null,null,null,null,null,null,null,null,null,null,null,null,null,null,null,null,null,null,null,null,null,null,null,null,null,null,null,null,null,null,null,null,null,null,50859.665000000015,51416.195,52014.770000000004,52549.12,52964.67,53357.00000000001,53776.979999999996,54466.674999999996,55417.31,56361.835,57031.605,57397.295,57753.295000000006,58082.37500000001,58291.170000000006,58538.965000000004,58773.42500000001,58938.935,59136.875,59295.545,59439.78,59613.869999999995,59835.6,60158.689999999995,60541.689999999995,60817.774999999994,61174.13999999999,61763.865,62393.825,63092.780000000006,63990.605,64906.81,65747.56999999999,66597.55500000001,66981.23000000001,66886.05500000001,66778.54500000001,66671.15500000003,66565.59500000002,66487.25500000002,66388.07000000002,66328.57500000001,66348.485,66341.26999999997,66238.475,66062.85500000001,65801.155,65797.725,66354.42,67028.93500000001,67512.82000000002,67996.78,68483.79500000001,68837.57,69070.87,69316.995,69752.645,70291.195,70649.645,70842.12999999999,71126.09000000001,71466.315,71686.55,72011.20999999999,72430.785,72693.86,72955.73500000002,73346.01500000001,73838.45000000001,74380.05000000002,75045.675,75923.44,76777.25,77385.64999999998,77743.94499999999,77937.805,77932.23999999999,77540.10500000001,77010.19,76591.38999999998,76089.375,75706.79999999999,75388.19499999998,75391.00499999999,75765.18000000001,75999.96,76268.32500000001,76716.45000000001,77105.16500000001,77266.705,77338.045,77327.42499999999,77160.68,76959.06,76728.45,76322.37500000001,75887.76000000001,75472.02,75258.49500000002,75380.18000000001,75356.95499999999,75145.54,74998.87,74676.59999999999,74237.35499999998,73869.09999999999,73481.70999999999,72833.09,72006.725,71244.58,70640.55,70235.625,70023.265,69907.535,69790.55000000002,69588.33500000002,69277.475,68973.02500000001,68668.69499999998,68653.625,68764.22499999999,68736.71,68709.44499999999,68631.725,68438.925,68219.39499999999,67911.34,67452.56999999999,66983.99499999998,66475.445,65814.76000000001,65264.325000000004,64701.55000000001,63995.775,63850.17500000001,64210.27000000001,64675.745,65187.725000000006,65701.885,66176.51,66585.365,66969.86000000002,67301.56999999999,67562.875,67791.655,68007.845,68196.535,68036.11,67400.47000000002,66819.54499999998,66401.80999999998,65844.01999999999,65263.85999999999,64841.174999999996,64469.284999999996,63942.295000000006,63115.78500000001,62190.875,61436.17999999999,60810.33999999999,60063.225,59210.465,58429.535,57587.57000000001,56694.98000000001,55923.715000000004,55226.270000000004,54567.505000000005,53957.19,53344.31,52498.34,51275.98,49993.280000000006,48952.465000000004,48284.535,47915.880000000005,47518.30000000001,47042.655000000006,46684.345,46357.205,46052.74999999999,45586.369999999995,45069.83,44572.63999999999,44027.935000000005,43570.115,43011.064999999995,42267.135,41511.02,40981.81500000001,40582.384999999995,40175.575000000004,39907.104999999996,39683.655,39463.030000000006,39426.485,39442.11,39399.605,39153.005,38667.34499999999,38337.03999999999,38154.025,37838.39,37679.72000000001,37733.310000000005,37781.805,37843.424999999996,37866.715,37896.25,37989.569999999985,38165.344999999994,38402.18,38269.310000000005,37822.86,37448.965,37177.44,37048.27,37004.439999999995,36920.26999999999,36553.24999999999,36125.384999999995,35804.450000000004,35391.365,34975.14999999999,34682.049999999996,34492.49499999999,34289.994999999995,34045.435,33807.994999999995,33542.18000000001,33165.41,32586.475000000002,32112.055,32153.079999999998,32451.395,32538.840000000004,32185.545000000002,31652.225000000002,31183.055,30748.980000000003,30567.105000000003,30674.685,30608.185000000005,30366.915,30245.350000000002,30222.63,30267.36,30311.1,30241.585,30027.925000000003,29762.53,29532.574999999997,29438.685,29496.054999999997,29428.775,29207.01,29030.380000000005,28866.4,28704.239999999998,28551.965,28388.350000000002,28270.165,28326.175,28558.305000000004,28704.370000000003,null,null,null,null,null,null,null,null,null,null,null,null,null,null,null,null,null,null,null,null,null,null,null,null,null,null,null,null,null,null,null,null,null,null,null,null,null,null,null,null,null,null,null,null,null,null,null,null,null,null],\"yaxis\":\"y2\",\"type\":\"scatter\"},{\"line\":{\"color\":\"rgba (76, 114, 176, 1)\",\"dash\":\"solid\",\"width\":1.5},\"mode\":\"lines\",\"name\":\"_child0\",\"x\":[0.0,1.0,2.0,3.0,4.0,5.0,6.0,7.0,8.0,9.0,10.0,11.0,12.0,13.0,14.0,15.0,16.0,17.0,18.0,19.0,20.0,21.0,22.0,23.0,24.0,25.0,26.0,27.0,28.0,29.0,30.0,31.0,32.0,33.0,34.0,35.0,36.0,37.0,38.0,39.0,40.0,41.0,42.0,43.0,44.0,45.0,46.0,47.0,48.0,49.0,50.0,51.0,52.0,53.0,54.0,55.0,56.0,57.0,58.0,59.0,60.0,61.0,62.0,63.0,64.0,65.0,66.0,67.0,68.0,69.0,70.0,71.0,72.0,73.0,74.0,75.0,76.0,77.0,78.0,79.0,80.0,81.0,82.0,83.0,84.0,85.0,86.0,87.0,88.0,89.0,90.0,91.0,92.0,93.0,94.0,95.0,96.0,97.0,98.0,99.0,100.0,101.0,102.0,103.0,104.0,105.0,106.0,107.0,108.0,109.0,110.0,111.0,112.0,113.0,114.0,115.0,116.0,117.0,118.0,119.0,120.0,121.0,122.0,123.0,124.0,125.0,126.0,127.0,128.0,129.0,130.0,131.0,132.0,133.0,134.0,135.0,136.0,137.0,138.0,139.0,140.0,141.0,142.0,143.0,144.0,145.0,146.0,147.0,148.0,149.0,150.0,151.0,152.0,153.0,154.0,155.0,156.0,157.0,158.0,159.0,160.0,161.0,162.0,163.0,164.0,165.0,166.0,167.0,168.0,169.0,170.0,171.0,172.0,173.0,174.0,175.0,176.0,177.0,178.0,179.0,180.0,181.0,182.0,183.0,184.0,185.0,186.0,187.0,188.0,189.0,190.0,191.0,192.0,193.0,194.0,195.0,196.0,197.0,198.0,199.0,200.0,201.0,202.0,203.0,204.0,205.0,206.0,207.0,208.0,209.0,210.0,211.0,212.0,213.0,214.0,215.0,216.0,217.0,218.0,219.0,220.0,221.0,222.0,223.0,224.0,225.0,226.0,227.0,228.0,229.0,230.0,231.0,232.0,233.0,234.0,235.0,236.0,237.0,238.0,239.0,240.0,241.0,242.0,243.0,244.0,245.0,246.0,247.0,248.0,249.0,250.0,251.0,252.0,253.0,254.0,255.0,256.0,257.0,258.0,259.0,260.0,261.0,262.0,263.0,264.0,265.0,266.0,267.0,268.0,269.0,270.0,271.0,272.0,273.0,274.0,275.0,276.0,277.0,278.0,279.0,280.0,281.0,282.0,283.0,284.0,285.0,286.0,287.0,288.0,289.0,290.0,291.0,292.0,293.0,294.0,295.0,296.0,297.0,298.0,299.0,300.0,301.0,302.0,303.0,304.0,305.0,306.0,307.0,308.0,309.0,310.0,311.0,312.0,313.0,314.0,315.0,316.0,317.0,318.0,319.0,320.0,321.0,322.0,323.0,324.0,325.0,326.0,327.0,328.0,329.0,330.0,331.0,332.0,333.0,334.0,335.0,336.0,337.0,338.0,339.0,340.0,341.0,342.0,343.0,344.0,345.0,346.0,347.0,348.0,349.0,350.0,351.0,352.0,353.0,354.0,355.0,356.0,357.0,358.0,359.0,360.0,361.0,362.0,363.0,364.0],\"xaxis\":\"x3\",\"y\":[0.7232036050030856,0.9411997448812576,0.9899425706295483,0.6948391182285862,0.6811453415132149,0.7152935225430973,0.6499672706551416,0.86548121470048,1.2993147630108932,1.4867455087988364,1.2695986224155216,1.2827641557056118,1.0935646479309022,1.0337210838270254,0.9990355163633291,0.9277423738428269,0.7045969826897288,0.707532909094564,0.8220611873272127,1.1636468104088347,0.8312357446022549,1.0096515240442958,1.0650089418742046,1.1118421220642682,0.9149235449900223,0.7252647130436481,1.0199400678738568,1.0538967346373145,0.9953182281796522,1.192247993456625,1.4748079290035812,1.7824037010829439,1.4675643232278455,1.4130317194131414,0.8760571830990178,0.8594725124746535,0.9267080507485838,0.8430056974279103,0.833997583149631,0.8093785839690413,0.683970666354121,0.7740426318231531,0.7509120531897043,0.5335351545772827,0.5472408752298011,0.5124027047857702,0.5537756684931682,1.0274438511269814,1.2130150973685632,1.2301684003289854,1.0400928091170192,1.1257459475011116,1.1023435495265097,1.1513380341945738,1.2056828474421792,1.2631844814643869,1.2886137134841322,1.2472689475485192,1.2304316136147457,1.1406195151012763,1.3069649311108062,1.1675813284388914,1.118368674808336,1.112352074461218,1.0791014974448405,0.956820666173485,0.860326601872097,0.7035074319041255,0.6583199934125588,0.7286467886058389,1.1711822741011382,1.3529804588010221,1.2671919459235672,1.0215864421747727,0.8038550549791202,0.7073971142004192,1.0389273545242328,1.3298936011621891,1.1334830887937213,1.2871319997137225,1.1594405416273912,1.3887998621253586,1.1591393940951065,1.1081703173283202,1.0655478542995267,1.0801348100463433,1.1994309567093733,1.22121489230483,1.1405891341623695,0.9668663611498333,0.8671996116146696,0.9001338534842886,1.0069877054180192,0.7711128651013296,0.5929895318245851,0.6716299906161884,0.6614668610598369,0.6932180868324371,0.8220044020825638,0.8393212353073813,0.7232036050030856,0.9411997448812576,0.9899425706295483,0.6948391182285862,0.6811453415132149,0.7152935225430973,0.6499672706551416,0.86548121470048,1.2993147630108932,1.4867455087988364,1.2695986224155216,1.2827641557056118,1.0935646479309022,1.0337210838270254,0.9990355163633291,0.9277423738428269,0.7045969826897288,0.707532909094564,0.8220611873272127,1.1636468104088347,0.8312357446022549,1.0096515240442958,1.0650089418742046,1.1118421220642682,0.9149235449900223,0.7252647130436481,1.0199400678738568,1.0538967346373145,0.9953182281796522,1.192247993456625,1.4748079290035812,1.7824037010829439,1.4675643232278455,1.4130317194131414,0.8760571830990178,0.8594725124746535,0.9267080507485838,0.8430056974279103,0.833997583149631,0.8093785839690413,0.683970666354121,0.7740426318231531,0.7509120531897043,0.5335351545772827,0.5472408752298011,0.5124027047857702,0.5537756684931682,1.0274438511269814,1.2130150973685632,1.2301684003289854,1.0400928091170192,1.1257459475011116,1.1023435495265097,1.1513380341945738,1.2056828474421792,1.2631844814643869,1.2886137134841322,1.2472689475485192,1.2304316136147457,1.1406195151012763,1.3069649311108062,1.1675813284388914,1.118368674808336,1.112352074461218,1.0791014974448405,0.956820666173485,0.860326601872097,0.7035074319041255,0.6583199934125588,0.7286467886058389,1.1711822741011382,1.3529804588010221,1.2671919459235672,1.0215864421747727,0.8038550549791202,0.7073971142004192,1.0389273545242328,1.3298936011621891,1.1334830887937213,1.2871319997137225,1.1594405416273912,1.3887998621253586,1.1591393940951065,1.1081703173283202,1.0655478542995267,1.0801348100463433,1.1994309567093733,1.22121489230483,1.1405891341623695,0.9668663611498333,0.8671996116146696,0.9001338534842886,1.0069877054180192,0.7711128651013296,0.5929895318245851,0.6716299906161884,0.6614668610598369,0.6932180868324371,0.8220044020825638,0.8393212353073813,0.7232036050030856,0.9411997448812576,0.9899425706295483,0.6948391182285862,0.6811453415132149,0.7152935225430973,0.6499672706551416,0.86548121470048,1.2993147630108932,1.4867455087988364,1.2695986224155216,1.2827641557056118,1.0935646479309022,1.0337210838270254,0.9990355163633291,0.9277423738428269,0.7045969826897288,0.707532909094564,0.8220611873272127,1.1636468104088347,0.8312357446022549,1.0096515240442958,1.0650089418742046,1.1118421220642682,0.9149235449900223,0.7252647130436481,1.0199400678738568,1.0538967346373145,0.9953182281796522,1.192247993456625,1.4748079290035812,1.7824037010829439,1.4675643232278455,1.4130317194131414,0.8760571830990178,0.8594725124746535,0.9267080507485838,0.8430056974279103,0.833997583149631,0.8093785839690413,0.683970666354121,0.7740426318231531,0.7509120531897043,0.5335351545772827,0.5472408752298011,0.5124027047857702,0.5537756684931682,1.0274438511269814,1.2130150973685632,1.2301684003289854,1.0400928091170192,1.1257459475011116,1.1023435495265097,1.1513380341945738,1.2056828474421792,1.2631844814643869,1.2886137134841322,1.2472689475485192,1.2304316136147457,1.1406195151012763,1.3069649311108062,1.1675813284388914,1.118368674808336,1.112352074461218,1.0791014974448405,0.956820666173485,0.860326601872097,0.7035074319041255,0.6583199934125588,0.7286467886058389,1.1711822741011382,1.3529804588010221,1.2671919459235672,1.0215864421747727,0.8038550549791202,0.7073971142004192,1.0389273545242328,1.3298936011621891,1.1334830887937213,1.2871319997137225,1.1594405416273912,1.3887998621253586,1.1591393940951065,1.1081703173283202,1.0655478542995267,1.0801348100463433,1.1994309567093733,1.22121489230483,1.1405891341623695,0.9668663611498333,0.8671996116146696,0.9001338534842886,1.0069877054180192,0.7711128651013296,0.5929895318245851,0.6716299906161884,0.6614668610598369,0.6932180868324371,0.8220044020825638,0.8393212353073813,0.7232036050030856,0.9411997448812576,0.9899425706295483,0.6948391182285862,0.6811453415132149,0.7152935225430973,0.6499672706551416,0.86548121470048,1.2993147630108932,1.4867455087988364,1.2695986224155216,1.2827641557056118,1.0935646479309022,1.0337210838270254,0.9990355163633291,0.9277423738428269,0.7045969826897288,0.707532909094564,0.8220611873272127,1.1636468104088347,0.8312357446022549,1.0096515240442958,1.0650089418742046,1.1118421220642682,0.9149235449900223,0.7252647130436481,1.0199400678738568,1.0538967346373145,0.9953182281796522,1.192247993456625,1.4748079290035812,1.7824037010829439,1.4675643232278455,1.4130317194131414,0.8760571830990178,0.8594725124746535,0.9267080507485838,0.8430056974279103,0.833997583149631,0.8093785839690413,0.683970666354121,0.7740426318231531,0.7509120531897043,0.5335351545772827,0.5472408752298011,0.5124027047857702,0.5537756684931682,1.0274438511269814,1.2130150973685632,1.2301684003289854,1.0400928091170192,1.1257459475011116,1.1023435495265097,1.1513380341945738,1.2056828474421792,1.2631844814643869,1.2886137134841322,1.2472689475485192,1.2304316136147457,1.1406195151012763,1.3069649311108062,1.1675813284388914,1.118368674808336,1.112352074461218,1.0791014974448405],\"yaxis\":\"y3\",\"type\":\"scatter\"},{\"marker\":{\"color\":\"#4C72B0\",\"line\":{\"color\":\"#4C72B0\",\"width\":1.0},\"opacity\":1,\"size\":6.0,\"symbol\":\"circle\"},\"mode\":\"markers\",\"name\":\"_child0\",\"x\":[0.0,1.0,2.0,3.0,4.0,5.0,6.0,7.0,8.0,9.0,10.0,11.0,12.0,13.0,14.0,15.0,16.0,17.0,18.0,19.0,20.0,21.0,22.0,23.0,24.0,25.0,26.0,27.0,28.0,29.0,30.0,31.0,32.0,33.0,34.0,35.0,36.0,37.0,38.0,39.0,40.0,41.0,42.0,43.0,44.0,45.0,46.0,47.0,48.0,49.0,50.0,51.0,52.0,53.0,54.0,55.0,56.0,57.0,58.0,59.0,60.0,61.0,62.0,63.0,64.0,65.0,66.0,67.0,68.0,69.0,70.0,71.0,72.0,73.0,74.0,75.0,76.0,77.0,78.0,79.0,80.0,81.0,82.0,83.0,84.0,85.0,86.0,87.0,88.0,89.0,90.0,91.0,92.0,93.0,94.0,95.0,96.0,97.0,98.0,99.0,100.0,101.0,102.0,103.0,104.0,105.0,106.0,107.0,108.0,109.0,110.0,111.0,112.0,113.0,114.0,115.0,116.0,117.0,118.0,119.0,120.0,121.0,122.0,123.0,124.0,125.0,126.0,127.0,128.0,129.0,130.0,131.0,132.0,133.0,134.0,135.0,136.0,137.0,138.0,139.0,140.0,141.0,142.0,143.0,144.0,145.0,146.0,147.0,148.0,149.0,150.0,151.0,152.0,153.0,154.0,155.0,156.0,157.0,158.0,159.0,160.0,161.0,162.0,163.0,164.0,165.0,166.0,167.0,168.0,169.0,170.0,171.0,172.0,173.0,174.0,175.0,176.0,177.0,178.0,179.0,180.0,181.0,182.0,183.0,184.0,185.0,186.0,187.0,188.0,189.0,190.0,191.0,192.0,193.0,194.0,195.0,196.0,197.0,198.0,199.0,200.0,201.0,202.0,203.0,204.0,205.0,206.0,207.0,208.0,209.0,210.0,211.0,212.0,213.0,214.0,215.0,216.0,217.0,218.0,219.0,220.0,221.0,222.0,223.0,224.0,225.0,226.0,227.0,228.0,229.0,230.0,231.0,232.0,233.0,234.0,235.0,236.0,237.0,238.0,239.0,240.0,241.0,242.0,243.0,244.0,245.0,246.0,247.0,248.0,249.0,250.0,251.0,252.0,253.0,254.0,255.0,256.0,257.0,258.0,259.0,260.0,261.0,262.0,263.0,264.0,265.0,266.0,267.0,268.0,269.0,270.0,271.0,272.0,273.0,274.0,275.0,276.0,277.0,278.0,279.0,280.0,281.0,282.0,283.0,284.0,285.0,286.0,287.0,288.0,289.0,290.0,291.0,292.0,293.0,294.0,295.0,296.0,297.0,298.0,299.0,300.0,301.0,302.0,303.0,304.0,305.0,306.0,307.0,308.0,309.0,310.0,311.0,312.0,313.0,314.0,315.0,316.0,317.0,318.0,319.0,320.0,321.0,322.0,323.0,324.0,325.0,326.0,327.0,328.0,329.0,330.0,331.0,332.0,333.0,334.0,335.0,336.0,337.0,338.0,339.0,340.0,341.0,342.0,343.0,344.0,345.0,346.0,347.0,348.0,349.0,350.0,351.0,352.0,353.0,354.0,355.0,356.0,357.0,358.0,359.0,360.0,361.0,362.0,363.0,364.0],\"xaxis\":\"x4\",\"y\":[null,null,null,null,null,null,null,null,null,null,null,null,null,null,null,null,null,null,null,null,null,null,null,null,null,null,null,null,null,null,null,null,null,null,null,null,null,null,null,null,null,null,null,null,null,null,null,null,null,null,0.877959891771142,0.8718664204748326,0.8940470420945281,0.9197577513764459,1.0718682570828861,1.0951823576421504,1.0689668255235103,0.9998146392983062,1.1820398547526128,1.1485141687038176,1.1164863084225953,1.1518143211370864,1.2947929784492975,1.0081251434845715,1.1567342412281234,1.2100774361546232,1.0790212807979656,0.7872616411621737,0.639310785966701,0.6259849953103638,0.7962816339652775,0.7955723173664656,0.9148388459324653,0.9658412912405419,0.9454300133908444,0.8899101980264496,1.4108144492008583,1.6290239610920485,1.4607688601806508,1.3848386936707235,1.548252973470589,1.2844320010877828,1.4475545690406568,0.6955962432673618,0.7659337731521212,0.8669966209506031,0.8305631859239739,0.7492157248717123,0.9701676079483814,0.9256538373210863,1.0509328549654138,1.1656221611557707,1.148938441403175,1.249437834484949,1.5425909114247494,1.4953866808027398,1.4407947525307492,1.5480078077911996,1.1224409749264794,0.9199981541824677,1.2718555092412722,1.0888683858386834,1.1637432257561093,1.4285912471498128,1.2680854864658342,1.1848251972826742,1.3145793446789864,1.8170906877481352,1.2753261400544562,1.1633601617521994,0.9044027211980331,0.8158545656203713,1.049814135321149,1.0926456167854541,0.9713944142554171,1.153108629500214,1.2123867064584355,1.207425355962888,1.1475999485713404,0.6675516215004973,0.8863165449908778,0.8242384316579733,0.840507475178276,0.8639407225285468,1.0236080383665982,0.9490754128159998,1.1290888735096711,1.11935663788122,1.1562871426555428,1.1362310914895324,1.2017407643469797,0.9131905029828573,1.2180551632130834,1.1138658788922378,0.44916257800058523,0.34707658971142746,0.2594991062172052,0.22600056588840486,0.17769858289603072,0.267085542416121,0.20774353026119455,0.2882145129776494,0.3618860866332626,0.3226712751168102,0.33449281209605436,0.3477056493909109,0.426986020742292,1.116267187939819,1.2577652437502276,0.96392425248441,1.1162411212248708,1.255526535453839,1.1239254774451253,0.9856590092447255,0.9609335910535145,1.130400385794286,1.3680919888256367,1.3227846452981367,1.12920691923276,1.1430177038949771,1.310190791267652,1.310797459564069,1.2434137328862476,1.4958631693013553,1.400696818816234,1.3166313708764517,1.4604893891369777,1.6118529867388927,1.7211662899716749,1.648160860120243,1.6533838725525323,1.7419247403627849,1.6343307483858847,1.541877117151068,1.252786154578561,1.1220268567714076,1.030275001650205,0.8065794406403145,0.7741695802994687,0.8558755576359885,0.7036849112003492,1.1081312148898856,0.8258874188608136,1.413980813657263,1.184089164001304,1.206806972279554,1.2779524594339005,1.4824474050759793,1.259533503454823,1.110967994816035,1.0943874748198341,1.0746188568399448,0.7116081009610083,1.0005834683279886,0.6531633998227537,0.42624034150367207,0.5025299637972724,0.5831159457283499,1.1122585912658713,1.3496766381984646,0.6979713505902153,0.9033702542015826,0.9792056047357461,0.43301194017373945,0.46986136255183797,0.5274008204774906,0.40818371653678753,0.43983251330896883,0.4843975091461517,0.5364922940895054,0.4575235275214361,0.5343826681101456,1.1586241855757897,1.1163711510790122,1.090619249996742,0.8835683483618719,0.8242902714036503,0.8292516218991979,0.8890770292907451,1.3691253563615886,1.150360432871208,1.2124385462041123,1.19616950268381,1.1727362553335392,1.0130689394954877,1.0876015650460862,0.9075881043524148,0.9173203399808658,0.8803898352065427,0.9004458863725534,0.8349362135151062,1.1234864748792288,0.8186218146490027,0.9228110989698479,1.587514399861501,1.6896003881506585,1.777177871644881,1.8106764119736811,1.8589783949660552,1.769591435445965,1.8289334476008912,1.7484624648844365,1.6747908912288234,1.7140057027452755,1.702184165766032,1.688971328471175,1.6096909571197937,0.920409789922267,0.7789117341118582,1.072752725377676,1.0608144537971163,0.9276225108644572,1.0370429472534755,1.149598706171957,1.0222136186567279,0.829432723356693,0.6179566524439816,0.7324161821966866,0.7437686928077559,0.7634835941943341,0.6283383671028814,0.592403686091974,0.5168087554575833,0.5510271540072021,0.49758440674877125,0.5283066597620534,0.5155047968581857,0.6559008388920622,0.6945383908547526,0.7808696113625216,0.6053499602753185,0.5175184090638785,0.5058458724747785,0.547297058401519,0.8567992988237232,1.0430784119952716,0.6139260159420656,0.6194120650607663,0.8200770263130093,0.8143012154864168,0.8030775821221907,0.6624522508154604,0.7815734788916591,0.9454384098685039,1.1049925296397038,0.9812118735629722,0.9464998214352541,0.823352336845437,0.8253143553899246,1.0183936346560076,0.909695137007881,0.8147744487974132,1.1944689244289457,0.8049941639801919,0.8592611555456257,1.1333884444867164,1.1116907504651077,0.9238917132735786,0.8203159006007782,0.7853406744121963,1.0851886069616414,1.062776826752863,0.9120666363012734,1.1934122794695765,1.317068617775457,1.3427894490329644,1.3322524055773546,0.7980922657360251,1.295291817592521,1.3551630109514243,1.6930892180736594,1.704778233062612,0.8465771458961897,0.8459986989286624,0.9930018025409699,null,null,null,null,null,null,null,null,null,null,null,null,null,null,null,null,null,null,null,null,null,null,null,null,null,null,null,null,null,null,null,null,null,null,null,null,null,null,null,null,null,null,null,null,null,null,null,null,null,null],\"yaxis\":\"y4\",\"type\":\"scatter\"},{\"line\":{\"color\":\"rgba (0, 0, 0, 1)\",\"dash\":\"solid\",\"width\":1.5},\"mode\":\"lines\",\"name\":\"_child1\",\"x\":[0.0,364.0],\"xaxis\":\"x4\",\"y\":[0.0,0.0],\"yaxis\":\"y4\",\"type\":\"scatter\"}],                        {\"autosize\":false,\"height\":288,\"hovermode\":\"closest\",\"width\":432,\"template\":{\"data\":{\"histogram2dcontour\":[{\"type\":\"histogram2dcontour\",\"colorbar\":{\"outlinewidth\":0,\"ticks\":\"\"},\"colorscale\":[[0.0,\"#0d0887\"],[0.1111111111111111,\"#46039f\"],[0.2222222222222222,\"#7201a8\"],[0.3333333333333333,\"#9c179e\"],[0.4444444444444444,\"#bd3786\"],[0.5555555555555556,\"#d8576b\"],[0.6666666666666666,\"#ed7953\"],[0.7777777777777778,\"#fb9f3a\"],[0.8888888888888888,\"#fdca26\"],[1.0,\"#f0f921\"]]}],\"choropleth\":[{\"type\":\"choropleth\",\"colorbar\":{\"outlinewidth\":0,\"ticks\":\"\"}}],\"histogram2d\":[{\"type\":\"histogram2d\",\"colorbar\":{\"outlinewidth\":0,\"ticks\":\"\"},\"colorscale\":[[0.0,\"#0d0887\"],[0.1111111111111111,\"#46039f\"],[0.2222222222222222,\"#7201a8\"],[0.3333333333333333,\"#9c179e\"],[0.4444444444444444,\"#bd3786\"],[0.5555555555555556,\"#d8576b\"],[0.6666666666666666,\"#ed7953\"],[0.7777777777777778,\"#fb9f3a\"],[0.8888888888888888,\"#fdca26\"],[1.0,\"#f0f921\"]]}],\"heatmap\":[{\"type\":\"heatmap\",\"colorbar\":{\"outlinewidth\":0,\"ticks\":\"\"},\"colorscale\":[[0.0,\"#0d0887\"],[0.1111111111111111,\"#46039f\"],[0.2222222222222222,\"#7201a8\"],[0.3333333333333333,\"#9c179e\"],[0.4444444444444444,\"#bd3786\"],[0.5555555555555556,\"#d8576b\"],[0.6666666666666666,\"#ed7953\"],[0.7777777777777778,\"#fb9f3a\"],[0.8888888888888888,\"#fdca26\"],[1.0,\"#f0f921\"]]}],\"heatmapgl\":[{\"type\":\"heatmapgl\",\"colorbar\":{\"outlinewidth\":0,\"ticks\":\"\"},\"colorscale\":[[0.0,\"#0d0887\"],[0.1111111111111111,\"#46039f\"],[0.2222222222222222,\"#7201a8\"],[0.3333333333333333,\"#9c179e\"],[0.4444444444444444,\"#bd3786\"],[0.5555555555555556,\"#d8576b\"],[0.6666666666666666,\"#ed7953\"],[0.7777777777777778,\"#fb9f3a\"],[0.8888888888888888,\"#fdca26\"],[1.0,\"#f0f921\"]]}],\"contourcarpet\":[{\"type\":\"contourcarpet\",\"colorbar\":{\"outlinewidth\":0,\"ticks\":\"\"}}],\"contour\":[{\"type\":\"contour\",\"colorbar\":{\"outlinewidth\":0,\"ticks\":\"\"},\"colorscale\":[[0.0,\"#0d0887\"],[0.1111111111111111,\"#46039f\"],[0.2222222222222222,\"#7201a8\"],[0.3333333333333333,\"#9c179e\"],[0.4444444444444444,\"#bd3786\"],[0.5555555555555556,\"#d8576b\"],[0.6666666666666666,\"#ed7953\"],[0.7777777777777778,\"#fb9f3a\"],[0.8888888888888888,\"#fdca26\"],[1.0,\"#f0f921\"]]}],\"surface\":[{\"type\":\"surface\",\"colorbar\":{\"outlinewidth\":0,\"ticks\":\"\"},\"colorscale\":[[0.0,\"#0d0887\"],[0.1111111111111111,\"#46039f\"],[0.2222222222222222,\"#7201a8\"],[0.3333333333333333,\"#9c179e\"],[0.4444444444444444,\"#bd3786\"],[0.5555555555555556,\"#d8576b\"],[0.6666666666666666,\"#ed7953\"],[0.7777777777777778,\"#fb9f3a\"],[0.8888888888888888,\"#fdca26\"],[1.0,\"#f0f921\"]]}],\"mesh3d\":[{\"type\":\"mesh3d\",\"colorbar\":{\"outlinewidth\":0,\"ticks\":\"\"}}],\"scatter\":[{\"fillpattern\":{\"fillmode\":\"overlay\",\"size\":10,\"solidity\":0.2},\"type\":\"scatter\"}],\"parcoords\":[{\"type\":\"parcoords\",\"line\":{\"colorbar\":{\"outlinewidth\":0,\"ticks\":\"\"}}}],\"scatterpolargl\":[{\"type\":\"scatterpolargl\",\"marker\":{\"colorbar\":{\"outlinewidth\":0,\"ticks\":\"\"}}}],\"bar\":[{\"error_x\":{\"color\":\"#2a3f5f\"},\"error_y\":{\"color\":\"#2a3f5f\"},\"marker\":{\"line\":{\"color\":\"#E5ECF6\",\"width\":0.5},\"pattern\":{\"fillmode\":\"overlay\",\"size\":10,\"solidity\":0.2}},\"type\":\"bar\"}],\"scattergeo\":[{\"type\":\"scattergeo\",\"marker\":{\"colorbar\":{\"outlinewidth\":0,\"ticks\":\"\"}}}],\"scatterpolar\":[{\"type\":\"scatterpolar\",\"marker\":{\"colorbar\":{\"outlinewidth\":0,\"ticks\":\"\"}}}],\"histogram\":[{\"marker\":{\"pattern\":{\"fillmode\":\"overlay\",\"size\":10,\"solidity\":0.2}},\"type\":\"histogram\"}],\"scattergl\":[{\"type\":\"scattergl\",\"marker\":{\"colorbar\":{\"outlinewidth\":0,\"ticks\":\"\"}}}],\"scatter3d\":[{\"type\":\"scatter3d\",\"line\":{\"colorbar\":{\"outlinewidth\":0,\"ticks\":\"\"}},\"marker\":{\"colorbar\":{\"outlinewidth\":0,\"ticks\":\"\"}}}],\"scattermapbox\":[{\"type\":\"scattermapbox\",\"marker\":{\"colorbar\":{\"outlinewidth\":0,\"ticks\":\"\"}}}],\"scatterternary\":[{\"type\":\"scatterternary\",\"marker\":{\"colorbar\":{\"outlinewidth\":0,\"ticks\":\"\"}}}],\"scattercarpet\":[{\"type\":\"scattercarpet\",\"marker\":{\"colorbar\":{\"outlinewidth\":0,\"ticks\":\"\"}}}],\"carpet\":[{\"aaxis\":{\"endlinecolor\":\"#2a3f5f\",\"gridcolor\":\"white\",\"linecolor\":\"white\",\"minorgridcolor\":\"white\",\"startlinecolor\":\"#2a3f5f\"},\"baxis\":{\"endlinecolor\":\"#2a3f5f\",\"gridcolor\":\"white\",\"linecolor\":\"white\",\"minorgridcolor\":\"white\",\"startlinecolor\":\"#2a3f5f\"},\"type\":\"carpet\"}],\"table\":[{\"cells\":{\"fill\":{\"color\":\"#EBF0F8\"},\"line\":{\"color\":\"white\"}},\"header\":{\"fill\":{\"color\":\"#C8D4E3\"},\"line\":{\"color\":\"white\"}},\"type\":\"table\"}],\"barpolar\":[{\"marker\":{\"line\":{\"color\":\"#E5ECF6\",\"width\":0.5},\"pattern\":{\"fillmode\":\"overlay\",\"size\":10,\"solidity\":0.2}},\"type\":\"barpolar\"}],\"pie\":[{\"automargin\":true,\"type\":\"pie\"}]},\"layout\":{\"autotypenumbers\":\"strict\",\"colorway\":[\"#636efa\",\"#EF553B\",\"#00cc96\",\"#ab63fa\",\"#FFA15A\",\"#19d3f3\",\"#FF6692\",\"#B6E880\",\"#FF97FF\",\"#FECB52\"],\"font\":{\"color\":\"#2a3f5f\"},\"hovermode\":\"closest\",\"hoverlabel\":{\"align\":\"left\"},\"paper_bgcolor\":\"white\",\"plot_bgcolor\":\"#E5ECF6\",\"polar\":{\"bgcolor\":\"#E5ECF6\",\"angularaxis\":{\"gridcolor\":\"white\",\"linecolor\":\"white\",\"ticks\":\"\"},\"radialaxis\":{\"gridcolor\":\"white\",\"linecolor\":\"white\",\"ticks\":\"\"}},\"ternary\":{\"bgcolor\":\"#E5ECF6\",\"aaxis\":{\"gridcolor\":\"white\",\"linecolor\":\"white\",\"ticks\":\"\"},\"baxis\":{\"gridcolor\":\"white\",\"linecolor\":\"white\",\"ticks\":\"\"},\"caxis\":{\"gridcolor\":\"white\",\"linecolor\":\"white\",\"ticks\":\"\"}},\"coloraxis\":{\"colorbar\":{\"outlinewidth\":0,\"ticks\":\"\"}},\"colorscale\":{\"sequential\":[[0.0,\"#0d0887\"],[0.1111111111111111,\"#46039f\"],[0.2222222222222222,\"#7201a8\"],[0.3333333333333333,\"#9c179e\"],[0.4444444444444444,\"#bd3786\"],[0.5555555555555556,\"#d8576b\"],[0.6666666666666666,\"#ed7953\"],[0.7777777777777778,\"#fb9f3a\"],[0.8888888888888888,\"#fdca26\"],[1.0,\"#f0f921\"]],\"sequentialminus\":[[0.0,\"#0d0887\"],[0.1111111111111111,\"#46039f\"],[0.2222222222222222,\"#7201a8\"],[0.3333333333333333,\"#9c179e\"],[0.4444444444444444,\"#bd3786\"],[0.5555555555555556,\"#d8576b\"],[0.6666666666666666,\"#ed7953\"],[0.7777777777777778,\"#fb9f3a\"],[0.8888888888888888,\"#fdca26\"],[1.0,\"#f0f921\"]],\"diverging\":[[0,\"#8e0152\"],[0.1,\"#c51b7d\"],[0.2,\"#de77ae\"],[0.3,\"#f1b6da\"],[0.4,\"#fde0ef\"],[0.5,\"#f7f7f7\"],[0.6,\"#e6f5d0\"],[0.7,\"#b8e186\"],[0.8,\"#7fbc41\"],[0.9,\"#4d9221\"],[1,\"#276419\"]]},\"xaxis\":{\"gridcolor\":\"white\",\"linecolor\":\"white\",\"ticks\":\"\",\"title\":{\"standoff\":15},\"zerolinecolor\":\"white\",\"automargin\":true,\"zerolinewidth\":2},\"yaxis\":{\"gridcolor\":\"white\",\"linecolor\":\"white\",\"ticks\":\"\",\"title\":{\"standoff\":15},\"zerolinecolor\":\"white\",\"automargin\":true,\"zerolinewidth\":2},\"scene\":{\"xaxis\":{\"backgroundcolor\":\"#E5ECF6\",\"gridcolor\":\"white\",\"linecolor\":\"white\",\"showbackground\":true,\"ticks\":\"\",\"zerolinecolor\":\"white\",\"gridwidth\":2},\"yaxis\":{\"backgroundcolor\":\"#E5ECF6\",\"gridcolor\":\"white\",\"linecolor\":\"white\",\"showbackground\":true,\"ticks\":\"\",\"zerolinecolor\":\"white\",\"gridwidth\":2},\"zaxis\":{\"backgroundcolor\":\"#E5ECF6\",\"gridcolor\":\"white\",\"linecolor\":\"white\",\"showbackground\":true,\"ticks\":\"\",\"zerolinecolor\":\"white\",\"gridwidth\":2}},\"shapedefaults\":{\"line\":{\"color\":\"#2a3f5f\"}},\"annotationdefaults\":{\"arrowcolor\":\"#2a3f5f\",\"arrowhead\":0,\"arrowwidth\":1},\"geo\":{\"bgcolor\":\"white\",\"landcolor\":\"#E5ECF6\",\"subunitcolor\":\"white\",\"showland\":true,\"showlakes\":true,\"lakecolor\":\"white\"},\"title\":{\"x\":0.05},\"mapbox\":{\"style\":\"light\"}}},\"margin\":{\"b\":32,\"l\":66,\"pad\":0,\"r\":12,\"t\":27},\"xaxis\":{\"anchor\":\"y\",\"domain\":[0.0,1.0],\"mirror\":\"ticks\",\"nticks\":9,\"range\":[0.0,364.0],\"showgrid\":true,\"showline\":true,\"side\":\"top\",\"ticks\":\"inside\",\"type\":\"linear\",\"zeroline\":false},\"yaxis\":{\"anchor\":\"x\",\"domain\":[0.812132580581599,1.0],\"mirror\":\"ticks\",\"nticks\":4,\"range\":[-98.90000000000055,169716.9],\"showgrid\":true,\"showline\":true,\"side\":\"left\",\"tickfont\":{\"size\":11.0},\"ticks\":\"inside\",\"type\":\"linear\",\"zeroline\":false},\"annotations\":[{\"font\":{\"color\":\"#262626\",\"size\":12.0},\"showarrow\":false,\"text\":\"Instagram reach\",\"x\":0.49999999999999983,\"xanchor\":\"center\",\"xref\":\"paper\",\"y\":1.0523717248908298,\"yanchor\":\"bottom\",\"yref\":\"paper\"}],\"xaxis2\":{\"anchor\":\"y2\",\"domain\":[0.0,1.0],\"mirror\":\"ticks\",\"nticks\":9,\"range\":[0.0,364.0],\"showgrid\":true,\"showline\":true,\"side\":\"top\",\"ticks\":\"inside\",\"type\":\"linear\",\"zeroline\":false},\"yaxis2\":{\"anchor\":\"x2\",\"domain\":[0.5414217203877327,0.7292891398061337],\"mirror\":\"ticks\",\"nticks\":4,\"range\":[25786.783000000003,80421.18699999999],\"showgrid\":true,\"showline\":true,\"side\":\"left\",\"tickfont\":{\"size\":11.0},\"ticks\":\"inside\",\"type\":\"linear\",\"zeroline\":false,\"title\":{\"text\":\"Trend\",\"font\":{\"color\":\"#262626\",\"size\":12.0}}},\"xaxis3\":{\"anchor\":\"y3\",\"domain\":[0.0,1.0],\"mirror\":\"ticks\",\"nticks\":9,\"range\":[0.0,364.0],\"showgrid\":true,\"showline\":true,\"side\":\"top\",\"ticks\":\"inside\",\"type\":\"linear\",\"zeroline\":false},\"yaxis3\":{\"anchor\":\"x3\",\"domain\":[0.2707108601938664,0.4585782796122674],\"mirror\":\"ticks\",\"nticks\":5,\"range\":[0.44890265497091153,1.8459037508978025],\"showgrid\":true,\"showline\":true,\"side\":\"left\",\"tickfont\":{\"size\":11.0},\"ticks\":\"inside\",\"type\":\"linear\",\"zeroline\":false,\"title\":{\"text\":\"Seasonal\",\"font\":{\"color\":\"#262626\",\"size\":12.0}}},\"xaxis4\":{\"anchor\":\"y4\",\"domain\":[0.0,1.0],\"mirror\":\"ticks\",\"nticks\":9,\"range\":[0.0,364.0],\"showgrid\":true,\"showline\":true,\"side\":\"bottom\",\"tickfont\":{\"size\":11.0},\"ticks\":\"inside\",\"type\":\"linear\",\"zeroline\":false},\"yaxis4\":{\"anchor\":\"x4\",\"domain\":[0.0,0.18786741941840102],\"mirror\":\"ticks\",\"nticks\":4,\"range\":[-0.09294891974830277,1.951927314714358],\"showgrid\":true,\"showline\":true,\"side\":\"left\",\"tickfont\":{\"size\":11.0},\"ticks\":\"inside\",\"type\":\"linear\",\"zeroline\":false,\"title\":{\"text\":\"Resid\",\"font\":{\"color\":\"#262626\",\"size\":12.0}}},\"showlegend\":false},                        {\"responsive\": true}                    ).then(function(){\n",
       "                            \n",
       "var gd = document.getElementById('057a7d35-2a28-440f-a2da-18823854b093');\n",
       "var x = new MutationObserver(function (mutations, observer) {{\n",
       "        var display = window.getComputedStyle(gd).display;\n",
       "        if (!display || display === 'none') {{\n",
       "            console.log([gd, 'removed!']);\n",
       "            Plotly.purge(gd);\n",
       "            observer.disconnect();\n",
       "        }}\n",
       "}});\n",
       "\n",
       "// Listen for the removal of the full notebook cells\n",
       "var notebookContainer = gd.closest('#notebook-container');\n",
       "if (notebookContainer) {{\n",
       "    x.observe(notebookContainer, {childList: true});\n",
       "}}\n",
       "\n",
       "// Listen for the clearing of the current output cell\n",
       "var outputEl = gd.closest('.output');\n",
       "if (outputEl) {{\n",
       "    x.observe(outputEl, {childList: true});\n",
       "}}\n",
       "\n",
       "                        })                };                });            </script>        </div>"
      ]
     },
     "metadata": {},
     "output_type": "display_data"
    },
    {
     "data": {
      "text/plain": [
       "<Figure size 432x288 with 0 Axes>"
      ]
     },
     "metadata": {},
     "output_type": "display_data"
    }
   ],
   "source": [
    "\n",
    "df = df[[\"Date\", \"Instagram reach\"]]\n",
    "\n",
    "result = seasonal_decompose(df['Instagram reach'], \n",
    "                            model='multiplicative', \n",
    "                            period=100)\n",
    "\n",
    "fig = plt.figure()\n",
    "fig = result.plot()\n",
    "\n",
    "\n",
    "fig = mpl_to_plotly(fig)\n",
    "fig.show()"
   ]
  },
  {
   "cell_type": "code",
   "execution_count": 47,
   "id": "2913b89c",
   "metadata": {},
   "outputs": [
    {
     "data": {
      "text/plain": [
       "<AxesSubplot: xlabel='Lag', ylabel='Autocorrelation'>"
      ]
     },
     "execution_count": 47,
     "metadata": {},
     "output_type": "execute_result"
    },
    {
     "data": {
      "image/png": "[encoded data removed]",
      "text/plain": [
       "<Figure size 720x432 with 1 Axes>"
      ]
     },
     "metadata": {},
     "output_type": "display_data"
    }
   ],
   "source": [
    "plt.figure(figsize=(10,6))\n",
    "pd.plotting.autocorrelation_plot(df[\"Instagram reach\"])"
   ]
  },
  {
   "cell_type": "code",
   "execution_count": 54,
   "id": "255a1fd5",
   "metadata": {},
   "outputs": [
    {
     "data": {
      "image/png": "[encoded data removed]",
      "text/plain": [
       "<Figure size 432x288 with 1 Axes>"
      ]
     },
     "execution_count": 54,
     "metadata": {},
     "output_type": "execute_result"
    },
    {
     "data": {
      "image/png": "[encoded data removed]",
      "text/plain": [
       "<Figure size 432x288 with 1 Axes>"
      ]
     },
     "metadata": {},
     "output_type": "display_data"
    }
   ],
   "source": [
    "plot_pacf(df[\"Instagram reach\"], lags = 100, method='ywm')"
   ]
  },
  {
   "cell_type": "code",
   "execution_count": 78,
   "id": "09bab203",
   "metadata": {},
   "outputs": [
    {
     "name": "stdout",
     "output_type": "stream",
     "text": [
      "                                     SARIMAX Results                                      \n",
      "==========================================================================================\n",
      "Dep. Variable:                    Instagram reach   No. Observations:                  365\n",
      "Model:             SARIMAX(8, 1, 2)x(8, 1, 2, 12)   Log Likelihood               -3938.512\n",
      "Date:                            Fri, 01 Sep 2023   AIC                           7919.024\n",
      "Time:                                    22:35:59   BIC                           8000.160\n",
      "Sample:                                         0   HQIC                          7951.312\n",
      "                                            - 365                                         \n",
      "Covariance Type:                              opg                                         \n",
      "==============================================================================\n",
      "                 coef    std err          z      P>|z|      [0.025      0.975]\n",
      "------------------------------------------------------------------------------\n",
      "ar.L1          0.1880      6.532      0.029      0.977     -12.614      12.990\n",
      "ar.L2          0.4782      6.080      0.079      0.937     -11.439      12.396\n",
      "ar.L3         -0.1177      1.385     -0.085      0.932      -2.833       2.597\n",
      "ar.L4          0.0424      0.264      0.161      0.872      -0.475       0.560\n",
      "ar.L5         -0.0208      0.185     -0.112      0.910      -0.384       0.342\n",
      "ar.L6          0.0312      0.264      0.118      0.906      -0.486       0.549\n",
      "ar.L7          0.0099      0.416      0.024      0.981      -0.806       0.826\n",
      "ar.L8         -0.0126      0.229     -0.055      0.956      -0.462       0.436\n",
      "ma.L1         -0.2223      6.528     -0.034      0.973     -13.017      12.573\n",
      "ma.L2         -0.7143      6.283     -0.114      0.909     -13.028      11.599\n",
      "ar.S.L12      -1.0828      1.521     -0.712      0.476      -4.063       1.898\n",
      "ar.S.L24      -1.7390      2.231     -0.780      0.436      -6.111       2.633\n",
      "ar.S.L36      -1.4233      1.913     -0.744      0.457      -5.172       2.325\n",
      "ar.S.L48      -1.0768      1.557     -0.691      0.489      -4.129       1.976\n",
      "ar.S.L60      -0.7766      1.111     -0.699      0.484      -2.953       1.400\n",
      "ar.S.L72      -0.4441      0.787     -0.565      0.572      -1.986       1.098\n",
      "ar.S.L84      -0.2190      0.502     -0.436      0.663      -1.204       0.766\n",
      "ar.S.L96      -0.0519      0.245     -0.212      0.832      -0.532       0.428\n",
      "ma.S.L12       0.2220      1.521      0.146      0.884      -2.760       3.204\n",
      "ma.S.L24       0.8225      1.283      0.641      0.521      -1.691       3.336\n",
      "sigma2      4.863e+08   1.41e-07   3.45e+15      0.000    4.86e+08    4.86e+08\n",
      "===================================================================================\n",
      "Ljung-Box (L1) (Q):                   0.01   Jarque-Bera (JB):               215.37\n",
      "Prob(Q):                              0.93   Prob(JB):                         0.00\n",
      "Heteroskedasticity (H):               0.71   Skew:                             0.29\n",
      "Prob(H) (two-sided):                  0.07   Kurtosis:                         6.79\n",
      "===================================================================================\n",
      "\n",
      "Warnings:\n",
      "[1] Covariance matrix calculated using the outer product of gradients (complex-step).\n",
      "[2] Covariance matrix is singular or near-singular, with condition number 9.88e+31. Standard errors may be unstable.\n"
     ]
    }
   ],
   "source": [
    "# train the model\n",
    "p, d, q = 8, 1, 2\n",
    "\n",
    "model=sm.tsa.statespace.SARIMAX(df['Instagram reach'], order=(p, d, q),seasonal_order=(p, d, q, 12))\n",
    "model=model.fit()\n",
    "print(model.summary())"
   ]
  },
  {
   "cell_type": "code",
   "execution_count": 83,
   "id": "01156018",
   "metadata": {},
   "outputs": [
    {
     "data": {
      "application/vnd.plotly.v1+json": {
       "config": {
        "plotlyServerURL": "https://plot.ly"
       },
       "data": [
        {
         "mode": "lines",
         "name": "Training Data",
         "type": "scatter",
         "x": [
          0,
          1,
          2,
          3,
          4,
          5,
          6,
          7,
          8,
          9,
          10,
          11,
          12,
          13,
          14,
          15,
          16,
          17,
          18,
          19,
          20,
          21,
          22,
          23,
          24,
          25,
          26,
          27,
          28,
          29,
          30,
          31,
          32,
          33,
          34,
          35,
          36,
          37,
          38,
          39,
          40,
          41,
          42,
          43,
          44,
          45,
          46,
          47,
          48,
          49,
          50,
          51,
          52,
          53,
          54,
          55,
          56,
          57,
          58,
          59,
          60,
          61,
          62,
          63,
          64,
          65,
          66,
          67,
          68,
          69,
          70,
          71,
          72,
          73,
          74,
          75,
          76,
          77,
          78,
          79,
          80,
          81,
          82,
          83,
          84,
          85,
          86,
          87,
          88,
          89,
          90,
          91,
          92,
          93,
          94,
          95,
          96,
          97,
          98,
          99,
          100,
          101,
          102,
          103,
          104,
          105,
          106,
          107,
          108,
          109,
          110,
          111,
          112,
          113,
          114,
          115,
          116,
          117,
          118,
          119,
          120,
          121,
          122,
          123,
          124,
          125,
          126,
          127,
          128,
          129,
          130,
          131,
          132,
          133,
          134,
          135,
          136,
          137,
          138,
          139,
          140,
          141,
          142,
          143,
          144,
          145,
          146,
          147,
          148,
          149,
          150,
          151,
          152,
          153,
          154,
          155,
          156,
          157,
          158,
          159,
          160,
          161,
          162,
          163,
          164,
          165,
          166,
          167,
          168,
          169,
          170,
          171,
          172,
          173,
          174,
          175,
          176,
          177,
          178,
          179,
          180,
          181,
          182,
          183,
          184,
          185,
          186,
          187,
          188,
          189,
          190,
          191,
          192,
          193,
          194,
          195,
          196,
          197,
          198,
          199,
          200,
          201,
          202,
          203,
          204,
          205,
          206,
          207,
          208,
          209,
          210,
          211,
          212,
          213,
          214,
          215,
          216,
          217,
          218,
          219,
          220,
          221,
          222,
          223,
          224,
          225,
          226,
          227,
          228,
          229,
          230,
          231,
          232,
          233,
          234,
          235,
          236,
          237,
          238,
          239,
          240,
          241,
          242,
          243,
          244,
          245,
          246,
          247,
          248,
          249,
          250,
          251,
          252,
          253,
          254,
          255,
          256,
          257,
          258,
          259,
          260,
          261,
          262,
          263,
          264,
          265,
          266,
          267,
          268,
          269,
          270,
          271,
          272,
          273,
          274,
          275,
          276,
          277,
          278,
          279,
          280,
          281,
          282,
          283,
          284,
          285,
          286,
          287,
          288,
          289,
          290,
          291,
          292,
          293,
          294,
          295,
          296,
          297,
          298,
          299,
          300,
          301,
          302,
          303,
          304,
          305,
          306,
          307,
          308,
          309,
          310,
          311,
          312,
          313,
          314,
          315,
          316,
          317,
          318,
          319,
          320,
          321,
          322,
          323,
          324,
          325,
          326,
          327,
          328,
          329,
          330,
          331,
          332,
          333,
          334,
          335,
          336,
          337,
          338,
          339,
          340,
          341,
          342,
          343,
          344,
          345,
          346,
          347,
          348,
          349,
          350,
          351,
          352,
          353,
          354,
          355,
          356,
          357,
          358,
          359,
          360,
          361,
          362,
          363,
          364
         ],
         "y": [
          7620,
          12859,
          16008,
          24349,
          20532,
          19408,
          14941,
          17263,
          20224,
          30471,
          39774,
          43550,
          42342,
          55477,
          54391,
          44108,
          49089,
          42790,
          49940,
          45763,
          38457,
          45197,
          42367,
          36076,
          34467,
          36772,
          35349,
          27926,
          26184,
          26410,
          32637,
          42204,
          47632,
          35793,
          35945,
          35574,
          26940,
          27495,
          19660,
          24138,
          23391,
          16748,
          17489,
          18171,
          29682,
          33085,
          50797,
          54392,
          35649,
          33654,
          46443,
          50465,
          51263,
          55647,
          68448,
          73815,
          74077,
          67922,
          80600,
          73835,
          83221,
          77190,
          83630,
          65133,
          72761,
          67778,
          54560,
          32643,
          24889,
          27046,
          55433,
          64168,
          69366,
          59358,
          46011,
          38286,
          89665,
          133807,
          103309,
          112461,
          114870,
          115782,
          110319,
          51336,
          54666,
          62637,
          66525,
          61001,
          73659,
          59505,
          60504,
          69593,
          76763,
          63917,
          60591,
          66350,
          62711,
          70608,
          61222,
          51758,
          62099,
          69686,
          78896,
          68331,
          59660,
          58746,
          59599,
          110544,
          117070,
          122530,
          81669,
          74793,
          82299,
          81336,
          70291,
          77767,
          62322,
          62659,
          69659,
          57778,
          55289,
          63183,
          68727,
          74334,
          72809,
          53647,
          89747,
          91473,
          88629,
          103756,
          134856,
          123226,
          134762,
          118660,
          29813,
          22671,
          18341,
          14616,
          11427,
          16703,
          10989,
          17251,
          20968,
          13249,
          14045,
          13598,
          17944,
          86559,
          114821,
          89385,
          87489,
          106211,
          92920,
          84745,
          86010,
          105478,
          129544,
          120165,
          100047,
          92885,
          120963,
          107493,
          97374,
          116321,
          105488,
          87666,
          87047,
          78212,
          77807,
          82448,
          133156,
          161998,
          142298,
          108106,
          68922,
          54147,
          72691,
          72354,
          58779,
          73231,
          53697,
          100440,
          61940,
          100277,
          80560,
          83699,
          99136,
          118015,
          94388,
          71084,
          63193,
          64780,
          48227,
          52129,
          26257,
          19469,
          22669,
          27502,
          61623,
          75694,
          33518,
          55984,
          63264,
          19509,
          20633,
          24122,
          16745,
          23674,
          38667,
          48504,
          34889,
          40588,
          74032,
          66457,
          61773,
          45842,
          32075,
          32016,
          39436,
          84987,
          50200,
          62769,
          63688,
          63829,
          44754,
          37796,
          43987,
          45479,
          40908,
          49767,
          56708,
          91287,
          54146,
          58121,
          61232,
          63271,
          70836,
          64517,
          64358,
          58697,
          50766,
          54373,
          50188,
          36290,
          36760,
          34121,
          35159,
          37259,
          36993,
          51028,
          42299,
          39843,
          43256,
          49872,
          46505,
          39585,
          30135,
          34592,
          34681,
          33083,
          31342,
          26562,
          22119,
          23183,
          20108,
          18793,
          16431,
          17075,
          16881,
          20798,
          25612,
          25070,
          22686,
          19555,
          23887,
          25451,
          21871,
          28045,
          31426,
          35156,
          30881,
          29980,
          29092,
          33687,
          38209,
          34486,
          36539,
          31826,
          29354,
          30277,
          24114,
          22497,
          36816,
          18850,
          15411,
          23006,
          22257,
          19413,
          20392,
          19793,
          23358,
          29541,
          26580,
          24459,
          26401,
          28053,
          25138,
          19939,
          48309,
          57526,
          61022,
          61822,
          26224,
          24975,
          28476,
          24834,
          27249,
          28076,
          26542,
          24477,
          25137,
          23645,
          20195,
          24079,
          25884,
          18755,
          22528,
          18026,
          20873,
          16639,
          14482,
          17726,
          32823,
          87649,
          91367,
          50625,
          12823,
          15866,
          19175,
          17065,
          56023,
          70632,
          20629,
          17595,
          31142,
          35195,
          43031,
          38135,
          22214,
          23075,
          17173,
          18978,
          45343,
          59259,
          23662,
          18075,
          16319,
          15612,
          21229,
          16080,
          15622,
          18645,
          41238,
          50490,
          22014
         ]
        },
        {
         "mode": "lines",
         "name": "Predictions",
         "type": "scatter",
         "x": [
          365,
          366,
          367,
          368,
          369,
          370,
          371,
          372,
          373,
          374,
          375,
          376,
          377,
          378,
          379,
          380,
          381,
          382,
          383,
          384,
          385,
          386,
          387,
          388,
          389,
          390,
          391,
          392,
          393,
          394,
          395,
          396,
          397,
          398,
          399,
          400,
          401,
          402,
          403,
          404,
          405,
          406,
          407,
          408,
          409,
          410,
          411,
          412,
          413,
          414,
          415,
          416,
          417,
          418,
          419,
          420,
          421,
          422,
          423,
          424,
          425,
          426,
          427,
          428,
          429,
          430,
          431,
          432,
          433,
          434,
          435,
          436,
          437,
          438,
          439,
          440,
          441,
          442,
          443,
          444,
          445,
          446,
          447,
          448,
          449,
          450,
          451,
          452,
          453,
          454,
          455,
          456,
          457,
          458,
          459,
          460,
          461,
          462,
          463,
          464,
          465
         ],
         "y": [
          17442.25742021322,
          9951.423948346477,
          12747.164428836008,
          21202.752202195617,
          32785.257475132224,
          35582.42230327912,
          29349.170142898376,
          17596.959395221365,
          18520.108055889395,
          20850.795699733513,
          18750.680855500497,
          29691.0094339565,
          31159.97768820962,
          16064.661964181983,
          16379.703629588526,
          25921.282823918533,
          40833.788359847356,
          44161.374824195715,
          33078.40398130576,
          17659.622935264415,
          17622.206694802517,
          22001.809360095638,
          19432.564275031644,
          32134.206676271748,
          36358.682030945354,
          15076.459589827213,
          13284.960238571655,
          23977.03742304317,
          35507.8354073455,
          38863.83992398318,
          29598.051647374934,
          14907.596828993741,
          15237.125777364588,
          20819.94829797389,
          22779.87438104313,
          29033.89605556168,
          33693.276395640096,
          13963.220566623013,
          12136.980370045021,
          21013.799875419212,
          34219.93472600671,
          38049.27462355936,
          28315.77812599911,
          13082.335886798795,
          14206.897475186766,
          20046.467952291896,
          22226.841920919866,
          28978.707391068536,
          33010.71859551866,
          13043.341209981696,
          12868.6292219243,
          20018.30682139765,
          33783.22891226905,
          38017.618593332,
          27593.74987699248,
          14070.05300458488,
          14691.710033925163,
          19113.629229700073,
          18070.39411272969,
          30791.654989712973,
          35120.2288721755,
          11994.128167193698,
          11484.520414747178,
          19309.678374927593,
          31549.900730535435,
          35811.818224915296,
          25005.36035572434,
          12654.426226386391,
          13570.30731880627,
          20284.302042696952,
          20933.800241633326,
          28233.488617381612,
          32437.931388230416,
          10351.386556473792,
          8739.33829094868,
          18235.63456799067,
          28048.586808396096,
          31984.531298590868,
          23942.78523287885,
          10676.598666854512,
          11939.962456328672,
          18620.22171260739,
          21422.769562674475,
          24241.351973046625,
          27752.29157857839,
          9976.184999750738,
          8860.98573679587,
          16968.484233948668,
          28164.362467605384,
          31794.512131929398,
          23903.858432918187,
          10473.936302867744,
          11198.340503894622,
          16784.413538713045,
          17453.685382471514,
          23959.74676197717,
          26766.697009631214,
          9014.71173875293,
          9047.289620791114,
          16781.363464869337,
          31102.09918393853
         ]
        }
       ],
       "layout": {
        "template": {
         "data": {
          "bar": [
           {
            "error_x": {
             "color": "#2a3f5f"
            },
            "error_y": {
             "color": "#2a3f5f"
            },
            "marker": {
             "line": {
              "color": "#E5ECF6",
              "width": 0.5
             },
             "pattern": {
              "fillmode": "overlay",
              "size": 10,
              "solidity": 0.2
             }
            },
            "type": "bar"
           }
          ],
          "barpolar": [
           {
            "marker": {
             "line": {
              "color": "#E5ECF6",
              "width": 0.5
             },
             "pattern": {
              "fillmode": "overlay",
              "size": 10,
              "solidity": 0.2
             }
            },
            "type": "barpolar"
           }
          ],
          "carpet": [
           {
            "aaxis": {
             "endlinecolor": "#2a3f5f",
             "gridcolor": "white",
             "linecolor": "white",
             "minorgridcolor": "white",
             "startlinecolor": "#2a3f5f"
            },
            "baxis": {
             "endlinecolor": "#2a3f5f",
             "gridcolor": "white",
             "linecolor": "white",
             "minorgridcolor": "white",
             "startlinecolor": "#2a3f5f"
            },
            "type": "carpet"
           }
          ],
          "choropleth": [
           {
            "colorbar": {
             "outlinewidth": 0,
             "ticks": ""
            },
            "type": "choropleth"
           }
          ],
          "contour": [
           {
            "colorbar": {
             "outlinewidth": 0,
             "ticks": ""
            },
            "colorscale": [
             [
              0,
              "#0d0887"
             ],
             [
              0.1111111111111111,
              "#46039f"
             ],
             [
              0.2222222222222222,
              "#7201a8"
             ],
             [
              0.3333333333333333,
              "#9c179e"
             ],
             [
              0.4444444444444444,
              "#bd3786"
             ],
             [
              0.5555555555555556,
              "#d8576b"
             ],
             [
              0.6666666666666666,
              "#ed7953"
             ],
             [
              0.7777777777777778,
              "#fb9f3a"
             ],
             [
              0.8888888888888888,
              "#fdca26"
             ],
             [
              1,
              "#f0f921"
             ]
            ],
            "type": "contour"
           }
          ],
          "contourcarpet": [
           {
            "colorbar": {
             "outlinewidth": 0,
             "ticks": ""
            },
            "type": "contourcarpet"
           }
          ],
          "heatmap": [
           {
            "colorbar": {
             "outlinewidth": 0,
             "ticks": ""
            },
            "colorscale": [
             [
              0,
              "#0d0887"
             ],
             [
              0.1111111111111111,
              "#46039f"
             ],
             [
              0.2222222222222222,
              "#7201a8"
             ],
             [
              0.3333333333333333,
              "#9c179e"
             ],
             [
              0.4444444444444444,
              "#bd3786"
             ],
             [
              0.5555555555555556,
              "#d8576b"
             ],
             [
              0.6666666666666666,
              "#ed7953"
             ],
             [
              0.7777777777777778,
              "#fb9f3a"
             ],
             [
              0.8888888888888888,
              "#fdca26"
             ],
             [
              1,
              "#f0f921"
             ]
            ],
            "type": "heatmap"
           }
          ],
          "heatmapgl": [
           {
            "colorbar": {
             "outlinewidth": 0,
             "ticks": ""
            },
            "colorscale": [
             [
              0,
              "#0d0887"
             ],
             [
              0.1111111111111111,
              "#46039f"
             ],
             [
              0.2222222222222222,
              "#7201a8"
             ],
             [
              0.3333333333333333,
              "#9c179e"
             ],
             [
              0.4444444444444444,
              "#bd3786"
             ],
             [
              0.5555555555555556,
              "#d8576b"
             ],
             [
              0.6666666666666666,
              "#ed7953"
             ],
             [
              0.7777777777777778,
              "#fb9f3a"
             ],
             [
              0.8888888888888888,
              "#fdca26"
             ],
             [
              1,
              "#f0f921"
             ]
            ],
            "type": "heatmapgl"
           }
          ],
          "histogram": [
           {
            "marker": {
             "pattern": {
              "fillmode": "overlay",
              "size": 10,
              "solidity": 0.2
             }
            },
            "type": "histogram"
           }
          ],
          "histogram2d": [
           {
            "colorbar": {
             "outlinewidth": 0,
             "ticks": ""
            },
            "colorscale": [
             [
              0,
              "#0d0887"
             ],
             [
              0.1111111111111111,
              "#46039f"
             ],
             [
              0.2222222222222222,
              "#7201a8"
             ],
             [
              0.3333333333333333,
              "#9c179e"
             ],
             [
              0.4444444444444444,
              "#bd3786"
             ],
             [
              0.5555555555555556,
              "#d8576b"
             ],
             [
              0.6666666666666666,
              "#ed7953"
             ],
             [
              0.7777777777777778,
              "#fb9f3a"
             ],
             [
              0.8888888888888888,
              "#fdca26"
             ],
             [
              1,
              "#f0f921"
             ]
            ],
            "type": "histogram2d"
           }
          ],
          "histogram2dcontour": [
           {
            "colorbar": {
             "outlinewidth": 0,
             "ticks": ""
            },
            "colorscale": [
             [
              0,
              "#0d0887"
             ],
             [
              0.1111111111111111,
              "#46039f"
             ],
             [
              0.2222222222222222,
              "#7201a8"
             ],
             [
              0.3333333333333333,
              "#9c179e"
             ],
             [
              0.4444444444444444,
              "#bd3786"
             ],
             [
              0.5555555555555556,
              "#d8576b"
             ],
             [
              0.6666666666666666,
              "#ed7953"
             ],
             [
              0.7777777777777778,
              "#fb9f3a"
             ],
             [
              0.8888888888888888,
              "#fdca26"
             ],
             [
              1,
              "#f0f921"
             ]
            ],
            "type": "histogram2dcontour"
           }
          ],
          "mesh3d": [
           {
            "colorbar": {
             "outlinewidth": 0,
             "ticks": ""
            },
            "type": "mesh3d"
           }
          ],
          "parcoords": [
           {
            "line": {
             "colorbar": {
              "outlinewidth": 0,
              "ticks": ""
             }
            },
            "type": "parcoords"
           }
          ],
          "pie": [
           {
            "automargin": true,
            "type": "pie"
           }
          ],
          "scatter": [
           {
            "fillpattern": {
             "fillmode": "overlay",
             "size": 10,
             "solidity": 0.2
            },
            "type": "scatter"
           }
          ],
          "scatter3d": [
           {
            "line": {
             "colorbar": {
              "outlinewidth": 0,
              "ticks": ""
             }
            },
            "marker": {
             "colorbar": {
              "outlinewidth": 0,
              "ticks": ""
             }
            },
            "type": "scatter3d"
           }
          ],
          "scattercarpet": [
           {
            "marker": {
             "colorbar": {
              "outlinewidth": 0,
              "ticks": ""
             }
            },
            "type": "scattercarpet"
           }
          ],
          "scattergeo": [
           {
            "marker": {
             "colorbar": {
              "outlinewidth": 0,
              "ticks": ""
             }
            },
            "type": "scattergeo"
           }
          ],
          "scattergl": [
           {
            "marker": {
             "colorbar": {
              "outlinewidth": 0,
              "ticks": ""
             }
            },
            "type": "scattergl"
           }
          ],
          "scattermapbox": [
           {
            "marker": {
             "colorbar": {
              "outlinewidth": 0,
              "ticks": ""
             }
            },
            "type": "scattermapbox"
           }
          ],
          "scatterpolar": [
           {
            "marker": {
             "colorbar": {
              "outlinewidth": 0,
              "ticks": ""
             }
            },
            "type": "scatterpolar"
           }
          ],
          "scatterpolargl": [
           {
            "marker": {
             "colorbar": {
              "outlinewidth": 0,
              "ticks": ""
             }
            },
            "type": "scatterpolargl"
           }
          ],
          "scatterternary": [
           {
            "marker": {
             "colorbar": {
              "outlinewidth": 0,
              "ticks": ""
             }
            },
            "type": "scatterternary"
           }
          ],
          "surface": [
           {
            "colorbar": {
             "outlinewidth": 0,
             "ticks": ""
            },
            "colorscale": [
             [
              0,
              "#0d0887"
             ],
             [
              0.1111111111111111,
              "#46039f"
             ],
             [
              0.2222222222222222,
              "#7201a8"
             ],
             [
              0.3333333333333333,
              "#9c179e"
             ],
             [
              0.4444444444444444,
              "#bd3786"
             ],
             [
              0.5555555555555556,
              "#d8576b"
             ],
             [
              0.6666666666666666,
              "#ed7953"
             ],
             [
              0.7777777777777778,
              "#fb9f3a"
             ],
             [
              0.8888888888888888,
              "#fdca26"
             ],
             [
              1,
              "#f0f921"
             ]
            ],
            "type": "surface"
           }
          ],
          "table": [
           {
            "cells": {
             "fill": {
              "color": "#EBF0F8"
             },
             "line": {
              "color": "white"
             }
            },
            "header": {
             "fill": {
              "color": "#C8D4E3"
             },
             "line": {
              "color": "white"
             }
            },
            "type": "table"
           }
          ]
         },
         "layout": {
          "annotationdefaults": {
           "arrowcolor": "#2a3f5f",
           "arrowhead": 0,
           "arrowwidth": 1
          },
          "autotypenumbers": "strict",
          "coloraxis": {
           "colorbar": {
            "outlinewidth": 0,
            "ticks": ""
           }
          },
          "colorscale": {
           "diverging": [
            [
             0,
             "#8e0152"
            ],
            [
             0.1,
             "#c51b7d"
            ],
            [
             0.2,
             "#de77ae"
            ],
            [
             0.3,
             "#f1b6da"
            ],
            [
             0.4,
             "#fde0ef"
            ],
            [
             0.5,
             "#f7f7f7"
            ],
            [
             0.6,
             "#e6f5d0"
            ],
            [
             0.7,
             "#b8e186"
            ],
            [
             0.8,
             "#7fbc41"
            ],
            [
             0.9,
             "#4d9221"
            ],
            [
             1,
             "#276419"
            ]
           ],
           "sequential": [
            [
             0,
             "#0d0887"
            ],
            [
             0.1111111111111111,
             "#46039f"
            ],
            [
             0.2222222222222222,
             "#7201a8"
            ],
            [
             0.3333333333333333,
             "#9c179e"
            ],
            [
             0.4444444444444444,
             "#bd3786"
            ],
            [
             0.5555555555555556,
             "#d8576b"
            ],
            [
             0.6666666666666666,
             "#ed7953"
            ],
            [
             0.7777777777777778,
             "#fb9f3a"
            ],
            [
             0.8888888888888888,
             "#fdca26"
            ],
            [
             1,
             "#f0f921"
            ]
           ],
           "sequentialminus": [
            [
             0,
             "#0d0887"
            ],
            [
             0.1111111111111111,
             "#46039f"
            ],
            [
             0.2222222222222222,
             "#7201a8"
            ],
            [
             0.3333333333333333,
             "#9c179e"
            ],
            [
             0.4444444444444444,
             "#bd3786"
            ],
            [
             0.5555555555555556,
             "#d8576b"
            ],
            [
             0.6666666666666666,
             "#ed7953"
            ],
            [
             0.7777777777777778,
             "#fb9f3a"
            ],
            [
             0.8888888888888888,
             "#fdca26"
            ],
            [
             1,
             "#f0f921"
            ]
           ]
          },
          "colorway": [
           "#636efa",
           "#EF553B",
           "#00cc96",
           "#ab63fa",
           "#FFA15A",
           "#19d3f3",
           "#FF6692",
           "#B6E880",
           "#FF97FF",
           "#FECB52"
          ],
          "font": {
           "color": "#2a3f5f"
          },
          "geo": {
           "bgcolor": "white",
           "lakecolor": "white",
           "landcolor": "#E5ECF6",
           "showlakes": true,
           "showland": true,
           "subunitcolor": "white"
          },
          "hoverlabel": {
           "align": "left"
          },
          "hovermode": "closest",
          "mapbox": {
           "style": "light"
          },
          "paper_bgcolor": "white",
          "plot_bgcolor": "#E5ECF6",
          "polar": {
           "angularaxis": {
            "gridcolor": "white",
            "linecolor": "white",
            "ticks": ""
           },
           "bgcolor": "#E5ECF6",
           "radialaxis": {
            "gridcolor": "white",
            "linecolor": "white",
            "ticks": ""
           }
          },
          "scene": {
           "xaxis": {
            "backgroundcolor": "#E5ECF6",
            "gridcolor": "white",
            "gridwidth": 2,
            "linecolor": "white",
            "showbackground": true,
            "ticks": "",
            "zerolinecolor": "white"
           },
           "yaxis": {
            "backgroundcolor": "#E5ECF6",
            "gridcolor": "white",
            "gridwidth": 2,
            "linecolor": "white",
            "showbackground": true,
            "ticks": "",
            "zerolinecolor": "white"
           },
           "zaxis": {
            "backgroundcolor": "#E5ECF6",
            "gridcolor": "white",
            "gridwidth": 2,
            "linecolor": "white",
            "showbackground": true,
            "ticks": "",
            "zerolinecolor": "white"
           }
          },
          "shapedefaults": {
           "line": {
            "color": "#2a3f5f"
           }
          },
          "ternary": {
           "aaxis": {
            "gridcolor": "white",
            "linecolor": "white",
            "ticks": ""
           },
           "baxis": {
            "gridcolor": "white",
            "linecolor": "white",
            "ticks": ""
           },
           "bgcolor": "#E5ECF6",
           "caxis": {
            "gridcolor": "white",
            "linecolor": "white",
            "ticks": ""
           }
          },
          "title": {
           "x": 0.05
          },
          "xaxis": {
           "automargin": true,
           "gridcolor": "white",
           "linecolor": "white",
           "ticks": "",
           "title": {
            "standoff": 15
           },
           "zerolinecolor": "white",
           "zerolinewidth": 2
          },
          "yaxis": {
           "automargin": true,
           "gridcolor": "white",
           "linecolor": "white",
           "ticks": "",
           "title": {
            "standoff": 15
           },
           "zerolinecolor": "white",
           "zerolinewidth": 2
          }
         }
        },
        "title": {
         "text": "Instagram Reach Time Series and Predictions"
        },
        "xaxis": {
         "title": {
          "text": "Date"
         }
        },
        "yaxis": {
         "title": {
          "text": "Instagram Reach"
         }
        }
       }
      },
      "text/html": [
       "<div>                            <div id=\"9a4d4ac9-5896-4bd3-84c9-538f71002177\" class=\"plotly-graph-div\" style=\"height:525px; width:100%;\"></div>            <script type=\"text/javascript\">                require([\"plotly\"], function(Plotly) {                    window.PLOTLYENV=window.PLOTLYENV || {};                                    if (document.getElementById(\"9a4d4ac9-5896-4bd3-84c9-538f71002177\")) {                    Plotly.newPlot(                        \"9a4d4ac9-5896-4bd3-84c9-538f71002177\",                        [{\"mode\":\"lines\",\"name\":\"Training Data\",\"x\":[0,1,2,3,4,5,6,7,8,9,10,11,12,13,14,15,16,17,18,19,20,21,22,23,24,25,26,27,28,29,30,31,32,33,34,35,36,37,38,39,40,41,42,43,44,45,46,47,48,49,50,51,52,53,54,55,56,57,58,59,60,61,62,63,64,65,66,67,68,69,70,71,72,73,74,75,76,77,78,79,80,81,82,83,84,85,86,87,88,89,90,91,92,93,94,95,96,97,98,99,100,101,102,103,104,105,106,107,108,109,110,111,112,113,114,115,116,117,118,119,120,121,122,123,124,125,126,127,128,129,130,131,132,133,134,135,136,137,138,139,140,141,142,143,144,145,146,147,148,149,150,151,152,153,154,155,156,157,158,159,160,161,162,163,164,165,166,167,168,169,170,171,172,173,174,175,176,177,178,179,180,181,182,183,184,185,186,187,188,189,190,191,192,193,194,195,196,197,198,199,200,201,202,203,204,205,206,207,208,209,210,211,212,213,214,215,216,217,218,219,220,221,222,223,224,225,226,227,228,229,230,231,232,233,234,235,236,237,238,239,240,241,242,243,244,245,246,247,248,249,250,251,252,253,254,255,256,257,258,259,260,261,262,263,264,265,266,267,268,269,270,271,272,273,274,275,276,277,278,279,280,281,282,283,284,285,286,287,288,289,290,291,292,293,294,295,296,297,298,299,300,301,302,303,304,305,306,307,308,309,310,311,312,313,314,315,316,317,318,319,320,321,322,323,324,325,326,327,328,329,330,331,332,333,334,335,336,337,338,339,340,341,342,343,344,345,346,347,348,349,350,351,352,353,354,355,356,357,358,359,360,361,362,363,364],\"y\":[7620,12859,16008,24349,20532,19408,14941,17263,20224,30471,39774,43550,42342,55477,54391,44108,49089,42790,49940,45763,38457,45197,42367,36076,34467,36772,35349,27926,26184,26410,32637,42204,47632,35793,35945,35574,26940,27495,19660,24138,23391,16748,17489,18171,29682,33085,50797,54392,35649,33654,46443,50465,51263,55647,68448,73815,74077,67922,80600,73835,83221,77190,83630,65133,72761,67778,54560,32643,24889,27046,55433,64168,69366,59358,46011,38286,89665,133807,103309,112461,114870,115782,110319,51336,54666,62637,66525,61001,73659,59505,60504,69593,76763,63917,60591,66350,62711,70608,61222,51758,62099,69686,78896,68331,59660,58746,59599,110544,117070,122530,81669,74793,82299,81336,70291,77767,62322,62659,69659,57778,55289,63183,68727,74334,72809,53647,89747,91473,88629,103756,134856,123226,134762,118660,29813,22671,18341,14616,11427,16703,10989,17251,20968,13249,14045,13598,17944,86559,114821,89385,87489,106211,92920,84745,86010,105478,129544,120165,100047,92885,120963,107493,97374,116321,105488,87666,87047,78212,77807,82448,133156,161998,142298,108106,68922,54147,72691,72354,58779,73231,53697,100440,61940,100277,80560,83699,99136,118015,94388,71084,63193,64780,48227,52129,26257,19469,22669,27502,61623,75694,33518,55984,63264,19509,20633,24122,16745,23674,38667,48504,34889,40588,74032,66457,61773,45842,32075,32016,39436,84987,50200,62769,63688,63829,44754,37796,43987,45479,40908,49767,56708,91287,54146,58121,61232,63271,70836,64517,64358,58697,50766,54373,50188,36290,36760,34121,35159,37259,36993,51028,42299,39843,43256,49872,46505,39585,30135,34592,34681,33083,31342,26562,22119,23183,20108,18793,16431,17075,16881,20798,25612,25070,22686,19555,23887,25451,21871,28045,31426,35156,30881,29980,29092,33687,38209,34486,36539,31826,29354,30277,24114,22497,36816,18850,15411,23006,22257,19413,20392,19793,23358,29541,26580,24459,26401,28053,25138,19939,48309,57526,61022,61822,26224,24975,28476,24834,27249,28076,26542,24477,25137,23645,20195,24079,25884,18755,22528,18026,20873,16639,14482,17726,32823,87649,91367,50625,12823,15866,19175,17065,56023,70632,20629,17595,31142,35195,43031,38135,22214,23075,17173,18978,45343,59259,23662,18075,16319,15612,21229,16080,15622,18645,41238,50490,22014],\"type\":\"scatter\"},{\"mode\":\"lines\",\"name\":\"Predictions\",\"x\":[365,366,367,368,369,370,371,372,373,374,375,376,377,378,379,380,381,382,383,384,385,386,387,388,389,390,391,392,393,394,395,396,397,398,399,400,401,402,403,404,405,406,407,408,409,410,411,412,413,414,415,416,417,418,419,420,421,422,423,424,425,426,427,428,429,430,431,432,433,434,435,436,437,438,439,440,441,442,443,444,445,446,447,448,449,450,451,452,453,454,455,456,457,458,459,460,461,462,463,464,465],\"y\":[17442.25742021322,9951.423948346477,12747.164428836008,21202.752202195617,32785.257475132224,35582.42230327912,29349.170142898376,17596.959395221365,18520.108055889395,20850.795699733513,18750.680855500497,29691.0094339565,31159.97768820962,16064.661964181983,16379.703629588526,25921.282823918533,40833.788359847356,44161.374824195715,33078.40398130576,17659.622935264415,17622.206694802517,22001.809360095638,19432.564275031644,32134.206676271748,36358.682030945354,15076.459589827213,13284.960238571655,23977.03742304317,35507.8354073455,38863.83992398318,29598.051647374934,14907.596828993741,15237.125777364588,20819.94829797389,22779.87438104313,29033.89605556168,33693.276395640096,13963.220566623013,12136.980370045021,21013.799875419212,34219.93472600671,38049.27462355936,28315.77812599911,13082.335886798795,14206.897475186766,20046.467952291896,22226.841920919866,28978.707391068536,33010.71859551866,13043.341209981696,12868.6292219243,20018.30682139765,33783.22891226905,38017.618593332,27593.74987699248,14070.05300458488,14691.710033925163,19113.629229700073,18070.39411272969,30791.654989712973,35120.2288721755,11994.128167193698,11484.520414747178,19309.678374927593,31549.900730535435,35811.818224915296,25005.36035572434,12654.426226386391,13570.30731880627,20284.302042696952,20933.800241633326,28233.488617381612,32437.931388230416,10351.386556473792,8739.33829094868,18235.63456799067,28048.586808396096,31984.531298590868,23942.78523287885,10676.598666854512,11939.962456328672,18620.22171260739,21422.769562674475,24241.351973046625,27752.29157857839,9976.184999750738,8860.98573679587,16968.484233948668,28164.362467605384,31794.512131929398,23903.858432918187,10473.936302867744,11198.340503894622,16784.413538713045,17453.685382471514,23959.74676197717,26766.697009631214,9014.71173875293,9047.289620791114,16781.363464869337,31102.09918393853],\"type\":\"scatter\"}],                        {\"title\":{\"text\":\"Instagram Reach Time Series and Predictions\"},\"xaxis\":{\"title\":{\"text\":\"Date\"}},\"yaxis\":{\"title\":{\"text\":\"Instagram Reach\"}},\"template\":{\"data\":{\"histogram2dcontour\":[{\"type\":\"histogram2dcontour\",\"colorbar\":{\"outlinewidth\":0,\"ticks\":\"\"},\"colorscale\":[[0.0,\"#0d0887\"],[0.1111111111111111,\"#46039f\"],[0.2222222222222222,\"#7201a8\"],[0.3333333333333333,\"#9c179e\"],[0.4444444444444444,\"#bd3786\"],[0.5555555555555556,\"#d8576b\"],[0.6666666666666666,\"#ed7953\"],[0.7777777777777778,\"#fb9f3a\"],[0.8888888888888888,\"#fdca26\"],[1.0,\"#f0f921\"]]}],\"choropleth\":[{\"type\":\"choropleth\",\"colorbar\":{\"outlinewidth\":0,\"ticks\":\"\"}}],\"histogram2d\":[{\"type\":\"histogram2d\",\"colorbar\":{\"outlinewidth\":0,\"ticks\":\"\"},\"colorscale\":[[0.0,\"#0d0887\"],[0.1111111111111111,\"#46039f\"],[0.2222222222222222,\"#7201a8\"],[0.3333333333333333,\"#9c179e\"],[0.4444444444444444,\"#bd3786\"],[0.5555555555555556,\"#d8576b\"],[0.6666666666666666,\"#ed7953\"],[0.7777777777777778,\"#fb9f3a\"],[0.8888888888888888,\"#fdca26\"],[1.0,\"#f0f921\"]]}],\"heatmap\":[{\"type\":\"heatmap\",\"colorbar\":{\"outlinewidth\":0,\"ticks\":\"\"},\"colorscale\":[[0.0,\"#0d0887\"],[0.1111111111111111,\"#46039f\"],[0.2222222222222222,\"#7201a8\"],[0.3333333333333333,\"#9c179e\"],[0.4444444444444444,\"#bd3786\"],[0.5555555555555556,\"#d8576b\"],[0.6666666666666666,\"#ed7953\"],[0.7777777777777778,\"#fb9f3a\"],[0.8888888888888888,\"#fdca26\"],[1.0,\"#f0f921\"]]}],\"heatmapgl\":[{\"type\":\"heatmapgl\",\"colorbar\":{\"outlinewidth\":0,\"ticks\":\"\"},\"colorscale\":[[0.0,\"#0d0887\"],[0.1111111111111111,\"#46039f\"],[0.2222222222222222,\"#7201a8\"],[0.3333333333333333,\"#9c179e\"],[0.4444444444444444,\"#bd3786\"],[0.5555555555555556,\"#d8576b\"],[0.6666666666666666,\"#ed7953\"],[0.7777777777777778,\"#fb9f3a\"],[0.8888888888888888,\"#fdca26\"],[1.0,\"#f0f921\"]]}],\"contourcarpet\":[{\"type\":\"contourcarpet\",\"colorbar\":{\"outlinewidth\":0,\"ticks\":\"\"}}],\"contour\":[{\"type\":\"contour\",\"colorbar\":{\"outlinewidth\":0,\"ticks\":\"\"},\"colorscale\":[[0.0,\"#0d0887\"],[0.1111111111111111,\"#46039f\"],[0.2222222222222222,\"#7201a8\"],[0.3333333333333333,\"#9c179e\"],[0.4444444444444444,\"#bd3786\"],[0.5555555555555556,\"#d8576b\"],[0.6666666666666666,\"#ed7953\"],[0.7777777777777778,\"#fb9f3a\"],[0.8888888888888888,\"#fdca26\"],[1.0,\"#f0f921\"]]}],\"surface\":[{\"type\":\"surface\",\"colorbar\":{\"outlinewidth\":0,\"ticks\":\"\"},\"colorscale\":[[0.0,\"#0d0887\"],[0.1111111111111111,\"#46039f\"],[0.2222222222222222,\"#7201a8\"],[0.3333333333333333,\"#9c179e\"],[0.4444444444444444,\"#bd3786\"],[0.5555555555555556,\"#d8576b\"],[0.6666666666666666,\"#ed7953\"],[0.7777777777777778,\"#fb9f3a\"],[0.8888888888888888,\"#fdca26\"],[1.0,\"#f0f921\"]]}],\"mesh3d\":[{\"type\":\"mesh3d\",\"colorbar\":{\"outlinewidth\":0,\"ticks\":\"\"}}],\"scatter\":[{\"fillpattern\":{\"fillmode\":\"overlay\",\"size\":10,\"solidity\":0.2},\"type\":\"scatter\"}],\"parcoords\":[{\"type\":\"parcoords\",\"line\":{\"colorbar\":{\"outlinewidth\":0,\"ticks\":\"\"}}}],\"scatterpolargl\":[{\"type\":\"scatterpolargl\",\"marker\":{\"colorbar\":{\"outlinewidth\":0,\"ticks\":\"\"}}}],\"bar\":[{\"error_x\":{\"color\":\"#2a3f5f\"},\"error_y\":{\"color\":\"#2a3f5f\"},\"marker\":{\"line\":{\"color\":\"#E5ECF6\",\"width\":0.5},\"pattern\":{\"fillmode\":\"overlay\",\"size\":10,\"solidity\":0.2}},\"type\":\"bar\"}],\"scattergeo\":[{\"type\":\"scattergeo\",\"marker\":{\"colorbar\":{\"outlinewidth\":0,\"ticks\":\"\"}}}],\"scatterpolar\":[{\"type\":\"scatterpolar\",\"marker\":{\"colorbar\":{\"outlinewidth\":0,\"ticks\":\"\"}}}],\"histogram\":[{\"marker\":{\"pattern\":{\"fillmode\":\"overlay\",\"size\":10,\"solidity\":0.2}},\"type\":\"histogram\"}],\"scattergl\":[{\"type\":\"scattergl\",\"marker\":{\"colorbar\":{\"outlinewidth\":0,\"ticks\":\"\"}}}],\"scatter3d\":[{\"type\":\"scatter3d\",\"line\":{\"colorbar\":{\"outlinewidth\":0,\"ticks\":\"\"}},\"marker\":{\"colorbar\":{\"outlinewidth\":0,\"ticks\":\"\"}}}],\"scattermapbox\":[{\"type\":\"scattermapbox\",\"marker\":{\"colorbar\":{\"outlinewidth\":0,\"ticks\":\"\"}}}],\"scatterternary\":[{\"type\":\"scatterternary\",\"marker\":{\"colorbar\":{\"outlinewidth\":0,\"ticks\":\"\"}}}],\"scattercarpet\":[{\"type\":\"scattercarpet\",\"marker\":{\"colorbar\":{\"outlinewidth\":0,\"ticks\":\"\"}}}],\"carpet\":[{\"aaxis\":{\"endlinecolor\":\"#2a3f5f\",\"gridcolor\":\"white\",\"linecolor\":\"white\",\"minorgridcolor\":\"white\",\"startlinecolor\":\"#2a3f5f\"},\"baxis\":{\"endlinecolor\":\"#2a3f5f\",\"gridcolor\":\"white\",\"linecolor\":\"white\",\"minorgridcolor\":\"white\",\"startlinecolor\":\"#2a3f5f\"},\"type\":\"carpet\"}],\"table\":[{\"cells\":{\"fill\":{\"color\":\"#EBF0F8\"},\"line\":{\"color\":\"white\"}},\"header\":{\"fill\":{\"color\":\"#C8D4E3\"},\"line\":{\"color\":\"white\"}},\"type\":\"table\"}],\"barpolar\":[{\"marker\":{\"line\":{\"color\":\"#E5ECF6\",\"width\":0.5},\"pattern\":{\"fillmode\":\"overlay\",\"size\":10,\"solidity\":0.2}},\"type\":\"barpolar\"}],\"pie\":[{\"automargin\":true,\"type\":\"pie\"}]},\"layout\":{\"autotypenumbers\":\"strict\",\"colorway\":[\"#636efa\",\"#EF553B\",\"#00cc96\",\"#ab63fa\",\"#FFA15A\",\"#19d3f3\",\"#FF6692\",\"#B6E880\",\"#FF97FF\",\"#FECB52\"],\"font\":{\"color\":\"#2a3f5f\"},\"hovermode\":\"closest\",\"hoverlabel\":{\"align\":\"left\"},\"paper_bgcolor\":\"white\",\"plot_bgcolor\":\"#E5ECF6\",\"polar\":{\"bgcolor\":\"#E5ECF6\",\"angularaxis\":{\"gridcolor\":\"white\",\"linecolor\":\"white\",\"ticks\":\"\"},\"radialaxis\":{\"gridcolor\":\"white\",\"linecolor\":\"white\",\"ticks\":\"\"}},\"ternary\":{\"bgcolor\":\"#E5ECF6\",\"aaxis\":{\"gridcolor\":\"white\",\"linecolor\":\"white\",\"ticks\":\"\"},\"baxis\":{\"gridcolor\":\"white\",\"linecolor\":\"white\",\"ticks\":\"\"},\"caxis\":{\"gridcolor\":\"white\",\"linecolor\":\"white\",\"ticks\":\"\"}},\"coloraxis\":{\"colorbar\":{\"outlinewidth\":0,\"ticks\":\"\"}},\"colorscale\":{\"sequential\":[[0.0,\"#0d0887\"],[0.1111111111111111,\"#46039f\"],[0.2222222222222222,\"#7201a8\"],[0.3333333333333333,\"#9c179e\"],[0.4444444444444444,\"#bd3786\"],[0.5555555555555556,\"#d8576b\"],[0.6666666666666666,\"#ed7953\"],[0.7777777777777778,\"#fb9f3a\"],[0.8888888888888888,\"#fdca26\"],[1.0,\"#f0f921\"]],\"sequentialminus\":[[0.0,\"#0d0887\"],[0.1111111111111111,\"#46039f\"],[0.2222222222222222,\"#7201a8\"],[0.3333333333333333,\"#9c179e\"],[0.4444444444444444,\"#bd3786\"],[0.5555555555555556,\"#d8576b\"],[0.6666666666666666,\"#ed7953\"],[0.7777777777777778,\"#fb9f3a\"],[0.8888888888888888,\"#fdca26\"],[1.0,\"#f0f921\"]],\"diverging\":[[0,\"#8e0152\"],[0.1,\"#c51b7d\"],[0.2,\"#de77ae\"],[0.3,\"#f1b6da\"],[0.4,\"#fde0ef\"],[0.5,\"#f7f7f7\"],[0.6,\"#e6f5d0\"],[0.7,\"#b8e186\"],[0.8,\"#7fbc41\"],[0.9,\"#4d9221\"],[1,\"#276419\"]]},\"xaxis\":{\"gridcolor\":\"white\",\"linecolor\":\"white\",\"ticks\":\"\",\"title\":{\"standoff\":15},\"zerolinecolor\":\"white\",\"automargin\":true,\"zerolinewidth\":2},\"yaxis\":{\"gridcolor\":\"white\",\"linecolor\":\"white\",\"ticks\":\"\",\"title\":{\"standoff\":15},\"zerolinecolor\":\"white\",\"automargin\":true,\"zerolinewidth\":2},\"scene\":{\"xaxis\":{\"backgroundcolor\":\"#E5ECF6\",\"gridcolor\":\"white\",\"linecolor\":\"white\",\"showbackground\":true,\"ticks\":\"\",\"zerolinecolor\":\"white\",\"gridwidth\":2},\"yaxis\":{\"backgroundcolor\":\"#E5ECF6\",\"gridcolor\":\"white\",\"linecolor\":\"white\",\"showbackground\":true,\"ticks\":\"\",\"zerolinecolor\":\"white\",\"gridwidth\":2},\"zaxis\":{\"backgroundcolor\":\"#E5ECF6\",\"gridcolor\":\"white\",\"linecolor\":\"white\",\"showbackground\":true,\"ticks\":\"\",\"zerolinecolor\":\"white\",\"gridwidth\":2}},\"shapedefaults\":{\"line\":{\"color\":\"#2a3f5f\"}},\"annotationdefaults\":{\"arrowcolor\":\"#2a3f5f\",\"arrowhead\":0,\"arrowwidth\":1},\"geo\":{\"bgcolor\":\"white\",\"landcolor\":\"#E5ECF6\",\"subunitcolor\":\"white\",\"showland\":true,\"showlakes\":true,\"lakecolor\":\"white\"},\"title\":{\"x\":0.05},\"mapbox\":{\"style\":\"light\"}}}},                        {\"responsive\": true}                    ).then(function(){\n",
       "                            \n",
       "var gd = document.getElementById('9a4d4ac9-5896-4bd3-84c9-538f71002177');\n",
       "var x = new MutationObserver(function (mutations, observer) {{\n",
       "        var display = window.getComputedStyle(gd).display;\n",
       "        if (!display || display === 'none') {{\n",
       "            console.log([gd, 'removed!']);\n",
       "            Plotly.purge(gd);\n",
       "            observer.disconnect();\n",
       "        }}\n",
       "}});\n",
       "\n",
       "// Listen for the removal of the full notebook cells\n",
       "var notebookContainer = gd.closest('#notebook-container');\n",
       "if (notebookContainer) {{\n",
       "    x.observe(notebookContainer, {childList: true});\n",
       "}}\n",
       "\n",
       "// Listen for the clearing of the current output cell\n",
       "var outputEl = gd.closest('.output');\n",
       "if (outputEl) {{\n",
       "    x.observe(outputEl, {childList: true});\n",
       "}}\n",
       "\n",
       "                        })                };                });            </script>        </div>"
      ]
     },
     "metadata": {},
     "output_type": "display_data"
    }
   ],
   "source": [
    "# get predictions and visualize them\n",
    "\n",
    "\n",
    "predictions = model.predict(len(df), len(df)+100)\n",
    "\n",
    "trace_train = go.Scatter(x=df.index, \n",
    "                         y=df[\"Instagram reach\"], \n",
    "                         mode=\"lines\", \n",
    "                         name=\"Training Data\")\n",
    "trace_pred = go.Scatter(x=predictions.index, \n",
    "                        y=predictions, \n",
    "                        mode=\"lines\", \n",
    "                        name=\"Predictions\")\n",
    "\n",
    "layout = go.Layout(title=\"Instagram Reach Time Series and Predictions\", \n",
    "                   xaxis=dict(title=\"Date\"), \n",
    "                   yaxis=dict(title=\"Instagram Reach\"))\n",
    "\n",
    "fig = go.Figure(data=[trace_train, trace_pred], layout=layout)\n",
    "fig.show()"
   ]
  },
  {
   "cell_type": "code",
   "execution_count": null,
   "id": "73eea8ee",
   "metadata": {},
   "outputs": [],
   "source": []
  }
 ],
 "metadata": {
  "kernelspec": {
   "display_name": "Python 3 (ipykernel)",
   "language": "python",
   "name": "python3"
  },
  "language_info": {
   "codemirror_mode": {
    "name": "ipython",
    "version": 3
   },
   "file_extension": ".py",
   "mimetype": "text/x-python",
   "name": "python",
   "nbconvert_exporter": "python",
   "pygments_lexer": "ipython3",
   "version": "3.10.6"
  }
 },
 "nbformat": 4,
 "nbformat_minor": 5
}
